{
 "cells": [
  {
   "cell_type": "code",
   "execution_count": 1,
   "metadata": {},
   "outputs": [
    {
     "data": {
      "application/vnd.jupyter.widget-view+json": {
       "model_id": "9e0bebbd213d4133857613a3347c52af",
       "version_major": 2,
       "version_minor": 0
      },
      "text/plain": [
       "VBox()"
      ]
     },
     "metadata": {},
     "output_type": "display_data"
    },
    {
     "name": "stdout",
     "output_type": "stream",
     "text": [
      "Starting Spark application\n"
     ]
    },
    {
     "data": {
      "text/html": [
       "<table>\n",
       "<tr><th>ID</th><th>YARN Application ID</th><th>Kind</th><th>State</th><th>Spark UI</th><th>Driver log</th><th>Current session?</th></tr><tr><td>3</td><td>application_1574346533459_0004</td><td>pyspark</td><td>idle</td><td><a target=\"_blank\" href=\"http://ip-172-31-8-217.ec2.internal:20888/proxy/application_1574346533459_0004/\">Link</a></td><td><a target=\"_blank\" href=\"http://ip-172-31-8-131.ec2.internal:8042/node/containerlogs/container_1574346533459_0004_01_000001/livy\">Link</a></td><td>✔</td></tr></table>"
      ],
      "text/plain": [
       "<IPython.core.display.HTML object>"
      ]
     },
     "metadata": {},
     "output_type": "display_data"
    },
    {
     "data": {
      "application/vnd.jupyter.widget-view+json": {
       "model_id": "",
       "version_major": 2,
       "version_minor": 0
      },
      "text/plain": [
       "FloatProgress(value=0.0, bar_style='info', description='Progress:', layout=Layout(height='25px', width='50%'),…"
      ]
     },
     "metadata": {},
     "output_type": "display_data"
    },
    {
     "name": "stdout",
     "output_type": "stream",
     "text": [
      "SparkSession available as 'spark'.\n"
     ]
    },
    {
     "data": {
      "application/vnd.jupyter.widget-view+json": {
       "model_id": "",
       "version_major": 2,
       "version_minor": 0
      },
      "text/plain": [
       "FloatProgress(value=0.0, bar_style='info', description='Progress:', layout=Layout(height='25px', width='50%'),…"
      ]
     },
     "metadata": {},
     "output_type": "display_data"
    }
   ],
   "source": [
    "#import SparkSession\n",
    "from pyspark.sql import SparkSession\n",
    "from pyspark.ml import Pipeline\n",
    "from pyspark.ml.feature import StringIndexer, OneHotEncoder, VectorAssembler\n",
    "from pyspark.sql.functions import col"
   ]
  },
  {
   "cell_type": "markdown",
   "metadata": {},
   "source": [
    "## Fetching Data"
   ]
  },
  {
   "cell_type": "code",
   "execution_count": 2,
   "metadata": {},
   "outputs": [
    {
     "data": {
      "application/vnd.jupyter.widget-view+json": {
       "model_id": "84cbfa215d6648ce8350add502b47f7b",
       "version_major": 2,
       "version_minor": 0
      },
      "text/plain": [
       "VBox()"
      ]
     },
     "metadata": {},
     "output_type": "display_data"
    },
    {
     "data": {
      "application/vnd.jupyter.widget-view+json": {
       "model_id": "",
       "version_major": 2,
       "version_minor": 0
      },
      "text/plain": [
       "FloatProgress(value=0.0, bar_style='info', description='Progress:', layout=Layout(height='25px', width='50%'),…"
      ]
     },
     "metadata": {},
     "output_type": "display_data"
    }
   ],
   "source": [
    "#create spar session object\n",
    "spark=SparkSession.builder.appName('data_minning').getOrCreate()"
   ]
  },
  {
   "cell_type": "code",
   "execution_count": 4,
   "metadata": {},
   "outputs": [
    {
     "data": {
      "application/vnd.jupyter.widget-view+json": {
       "model_id": "5fa11bf0ac1a47c0b6f181af7919c455",
       "version_major": 2,
       "version_minor": 0
      },
      "text/plain": [
       "VBox()"
      ]
     },
     "metadata": {},
     "output_type": "display_data"
    },
    {
     "data": {
      "application/vnd.jupyter.widget-view+json": {
       "model_id": "",
       "version_major": 2,
       "version_minor": 0
      },
      "text/plain": [
       "FloatProgress(value=0.0, bar_style='info', description='Progress:', layout=Layout(height='25px', width='50%'),…"
      ]
     },
     "metadata": {},
     "output_type": "display_data"
    },
    {
     "name": "stdout",
     "output_type": "stream",
     "text": [
      "DataFrame[summary: string, _c0: string, id: string, title: string, publication: string, author: string, date: string, year: string, month: string, url: string, content: string]"
     ]
    }
   ],
   "source": [
    "df =spark.read.csv('s3n://tet-project-3/data-csv/join/articles.csv',inferSchema=True,header=True)\n",
    "df.describe()"
   ]
  },
  {
   "cell_type": "markdown",
   "metadata": {},
   "source": [
    "##  Removing Null values at content"
   ]
  },
  {
   "cell_type": "code",
   "execution_count": 5,
   "metadata": {},
   "outputs": [
    {
     "data": {
      "application/vnd.jupyter.widget-view+json": {
       "model_id": "31a30f47928040ee9de654ca6600902e",
       "version_major": 2,
       "version_minor": 0
      },
      "text/plain": [
       "VBox()"
      ]
     },
     "metadata": {},
     "output_type": "display_data"
    },
    {
     "data": {
      "application/vnd.jupyter.widget-view+json": {
       "model_id": "",
       "version_major": 2,
       "version_minor": 0
      },
      "text/plain": [
       "FloatProgress(value=0.0, bar_style='info', description='Progress:', layout=Layout(height='25px', width='50%'),…"
      ]
     },
     "metadata": {},
     "output_type": "display_data"
    },
    {
     "name": "stdout",
     "output_type": "stream",
     "text": [
      "+--------------------+--------------------+--------------------+--------------------+--------------------+--------------------+--------------------+--------------------+--------------------+-------+\n",
      "|                 _c0|                  id|               title|         publication|              author|                date|                year|               month|                 url|content|\n",
      "+--------------------+--------------------+--------------------+--------------------+--------------------+--------------------+--------------------+--------------------+--------------------+-------+\n",
      "|                9374|               28110|\"UK Jobs Market C...|         Says Green\"|           Breitbart|     Jack Montgomery|          2017-02-26|              2017.0|                 2.0|   null|\n",
      "|               11683|               30419|\"Cohn: Trump Beco...|’ ’More Knowledge...|           Breitbart|      Joel B. Pollak|          2017-05-26|              2017.0|                 5.0|   null|\n",
      "|               14334|               33070|\"Facebook \"\"Fake ...|Staffed By Left-W...|           Breitbart|     Chris Tomlinson|          2017-02-05|              2017.0|                 2.0|   null|\n",
      "|               27910|               46670|\"DePaul Protester...|      White Male!\"\"\"|           Breitbart|       Allum Bokhari|          2016-05-25|              2016.0|                 5.0|   null|\n",
      "|               29816|               48580|Politico Scoop: D...|Not 6’ 3\"\" - Brei...|           Breitbart|      Breitbart News|          2016-12-23|              2016.0|                12.0|   null|\n",
      "|               47094|               66261|                   \"|                null|                null|                null|                null|                null|                null|   null|\n",
      "|\",Business Inside...|our Whole Foods b...|after we accounte...|so peppers were f...|or $3. 19 for one...|so this was a clo...|though the white ...|the cheapest opti...|we did a direct c...|   null|\n",
      "|               52032|               71949|                   \"|                null|                null|                null|                null|                null|                null|   null|\n",
      "|               52374|               72340|                   \"|                null|                null|                null|                null|                null|                null|   null|\n",
      "|               56734|               77982|                   \"|                null|                null|                null|                null|                null|                null|   null|\n",
      "|What We’re Follow...|                null|                null|                null|                null|                null|                null|                null|                null|   null|\n",
      "|\",Atlantic,Krishn...|                 who|            they say|was also wanted f...|but The Washingto...|a freelance photo...|                null|                null|                null|   null|\n",
      "|               56735|               77983|                   \"|                null|                null|                null|                null|                null|                null|   null|\n",
      "|Game Theory and C...|                null|                null|                null|                null|                null|                null|                null|                null|   null|\n",
      "|               56876|               78152|                   \"|                null|                null|                null|                null|                null|                null|   null|\n",
      "|America by Air: H...|                null|                null|                null|                null|                null|                null|                null|                null|   null|\n",
      "|               56941|               78230|                   \"|                null|                null|                null|                null|                null|                null|   null|\n",
      "|Going Out With a ...|                null|                null|                null|                null|                null|                null|                null|                null|   null|\n",
      "|               57022|               78329|                   \"|                null|                null|                null|                null|                null|                null|   null|\n",
      "|Track of the Day:...|                null|                null|                null|                null|                null|                null|                null|                null|   null|\n",
      "+--------------------+--------------------+--------------------+--------------------+--------------------+--------------------+--------------------+--------------------+--------------------+-------+\n",
      "only showing top 20 rows"
     ]
    }
   ],
   "source": [
    "#Removing null values\n",
    "df.where(col(\"content\").isNull()).show()\n",
    "\n",
    "from pyspark.sql.functions import when, col, coalesce, array\n",
    "fill = array().cast(\"string\")\n",
    "#null_free = when(col(\"refined_tokens\").isNull(), fill).otherwise(col(\"refined_tokens\"))\n",
    "null_free = coalesce(col(\"content\"), fill)\n",
    "null_free_df = df.withColumn(\"null_free\", null_free)"
   ]
  },
  {
   "cell_type": "markdown",
   "metadata": {},
   "source": [
    "## Data cleaning"
   ]
  },
  {
   "cell_type": "code",
   "execution_count": 6,
   "metadata": {},
   "outputs": [
    {
     "data": {
      "application/vnd.jupyter.widget-view+json": {
       "model_id": "ac75809087b442b9bfc0a9a35a781f74",
       "version_major": 2,
       "version_minor": 0
      },
      "text/plain": [
       "VBox()"
      ]
     },
     "metadata": {},
     "output_type": "display_data"
    },
    {
     "data": {
      "application/vnd.jupyter.widget-view+json": {
       "model_id": "",
       "version_major": 2,
       "version_minor": 0
      },
      "text/plain": [
       "FloatProgress(value=0.0, bar_style='info', description='Progress:', layout=Layout(height='25px', width='50%'),…"
      ]
     },
     "metadata": {},
     "output_type": "display_data"
    }
   ],
   "source": [
    "from pyspark.ml.feature import RegexTokenizer\n",
    "tokenization=RegexTokenizer(minTokenLength=2,gaps=False,pattern='[A-Za-z0-9]+',inputCol=\"null_free\",outputCol='tokens')\n",
    "tokenized_df=tokenization.transform(null_free_df)"
   ]
  },
  {
   "cell_type": "code",
   "execution_count": 7,
   "metadata": {},
   "outputs": [
    {
     "data": {
      "application/vnd.jupyter.widget-view+json": {
       "model_id": "16384bf07b424e64838b28dc3b24c9c5",
       "version_major": 2,
       "version_minor": 0
      },
      "text/plain": [
       "VBox()"
      ]
     },
     "metadata": {},
     "output_type": "display_data"
    },
    {
     "data": {
      "application/vnd.jupyter.widget-view+json": {
       "model_id": "",
       "version_major": 2,
       "version_minor": 0
      },
      "text/plain": [
       "FloatProgress(value=0.0, bar_style='info', description='Progress:', layout=Layout(height='25px', width='50%'),…"
      ]
     },
     "metadata": {},
     "output_type": "display_data"
    },
    {
     "name": "stdout",
     "output_type": "stream",
     "text": [
      "+----------------------------------------------------------------------------------------------------------------------------------------------------------------------------------------------------------------------------------------------------------------------------------------------------------------------------------------------------------------------------------------------------------------------------------------------------------------------------------------------------------------------------------------------------------------------------------------------------------------------------------------------------------------------------------------------------------------------------------------------------------------------------------------------------------------------------------------------------------------------------------------------------------------------------------------------------------------------------------------------------------------------------------------------------------------------------------------------------------------------------------------------------------------------------------------------------------------------------------------------------------------------------------------------------------------------------------------------------------------------------------------------------------------------------------------------------------------------------------------------------------------------------------------------------------------------------------------------------------------------------------------------------------------------------------------------------------------------------------------------------------------------------------------------------------------------------------------------------------------------------------------------------------------------------------------------------------------------------------------------------------------------------------------------------------------------------------------------------------------------------------------------------------------------------------------------------------------------------------------------------------------------------------------------------------------------------------------------------------------------------------------------------------------------------------------------------------------------------------------------------------------------------------------------------------------------------------------------------------------------------------------------------------------------------------------------------------------------------------------------------------------------------------------------------------------------------------------------------------------------------------------------------------------------------------------------------------------------------------------------------------------------------------------------------------------------------------------------------------------------------------------------------------------------------------------------------------------------------------------------------------------------------------------------------------------------------------------------------------------------------------------------------------------------------------------------------------------------------------------------------------------------------------------------------------------------------------------------------------------------------------------------------------------------------------------------------------------------------------------------------------------------------------------------------------------------------------------------------------------------------------------------------------------------------------------------------------------------------------------------------------------------------------------------------------------------------------------------------------------------------------------------------------------------------------------------------------------------------------------------------------------------------------------------------------------------------------------------------------------------------------------------------------------------------------------------------------------------------------------------------------------------------------------------------------------------------------------------------------------------------------------------------------------------------------------------------------------------------------------------------------------------------------------------------------------------------------------------------------------------------------------------------------------------------------------------------------------------------------------------------------------------------------------------------------------------------------------------------------------------------------------------------------------------------------------------------------------------------------------------------------------------------------------------------------------------------------------------------------------------------------------------------------------------------------------------------------------------------------------------------------------------------------------------------------------------------------------------------------------------------------------------------------------------------------------------------------------------------------------------------------------------------------------------------------------------------------------------------------------------------------------------------------------------------------------------------------------------------------------------------------------------------------------------------------------------------------------------------------------------------------------------------------------------------------------------------------------------------------------------------------------------------------------------------------------------------------------------------------------------------------------------------------------------------------------------------------------------------------------------------------------+\n",
      "|tokens                                                                                                                                                                                                                                                                                                                                                                                                                                                                                                                                                                                                                                                                                                                                                                                                                                                                                                                                                                                                                                                                                                                                                                                                                                                                                                                                                                                                                                                                                                                                                                                                                                                                                                                                                                                                                                                                                                                                                                                                                                                                                                                                                                                                                                                                                                                                                                                                                                                                                                                                                                                                                                                                                                                                                                                                                                                                                                                                                                                                                                                                                                                                                                                                                                                                                                                                                                                                                                                                                                                                                                                                                                                                                                                                                                                                                                                                                                                                                                                                                                                                                                                                                                                                                                                                                                                                                                                                                                                                                                                                                                                                                                                                                                                                                                                                                                                                                                                                                                                                                                                                                                                                                                                                                                                                                                                                                                                                                                                                                                                                                                                                                                                                                                                                                                                                                                                                                                                                                                                                                                                                                                                                                                                                                                                                                                                                                                                                                                                                                                          |\n",
      "+----------------------------------------------------------------------------------------------------------------------------------------------------------------------------------------------------------------------------------------------------------------------------------------------------------------------------------------------------------------------------------------------------------------------------------------------------------------------------------------------------------------------------------------------------------------------------------------------------------------------------------------------------------------------------------------------------------------------------------------------------------------------------------------------------------------------------------------------------------------------------------------------------------------------------------------------------------------------------------------------------------------------------------------------------------------------------------------------------------------------------------------------------------------------------------------------------------------------------------------------------------------------------------------------------------------------------------------------------------------------------------------------------------------------------------------------------------------------------------------------------------------------------------------------------------------------------------------------------------------------------------------------------------------------------------------------------------------------------------------------------------------------------------------------------------------------------------------------------------------------------------------------------------------------------------------------------------------------------------------------------------------------------------------------------------------------------------------------------------------------------------------------------------------------------------------------------------------------------------------------------------------------------------------------------------------------------------------------------------------------------------------------------------------------------------------------------------------------------------------------------------------------------------------------------------------------------------------------------------------------------------------------------------------------------------------------------------------------------------------------------------------------------------------------------------------------------------------------------------------------------------------------------------------------------------------------------------------------------------------------------------------------------------------------------------------------------------------------------------------------------------------------------------------------------------------------------------------------------------------------------------------------------------------------------------------------------------------------------------------------------------------------------------------------------------------------------------------------------------------------------------------------------------------------------------------------------------------------------------------------------------------------------------------------------------------------------------------------------------------------------------------------------------------------------------------------------------------------------------------------------------------------------------------------------------------------------------------------------------------------------------------------------------------------------------------------------------------------------------------------------------------------------------------------------------------------------------------------------------------------------------------------------------------------------------------------------------------------------------------------------------------------------------------------------------------------------------------------------------------------------------------------------------------------------------------------------------------------------------------------------------------------------------------------------------------------------------------------------------------------------------------------------------------------------------------------------------------------------------------------------------------------------------------------------------------------------------------------------------------------------------------------------------------------------------------------------------------------------------------------------------------------------------------------------------------------------------------------------------------------------------------------------------------------------------------------------------------------------------------------------------------------------------------------------------------------------------------------------------------------------------------------------------------------------------------------------------------------------------------------------------------------------------------------------------------------------------------------------------------------------------------------------------------------------------------------------------------------------------------------------------------------------------------------------------------------------------------------------------------------------------------------------------------------------------------------------------------------------------------------------------------------------------------------------------------------------------------------------------------------------------------------------------------------------------------------------------------------------------------------------------------------------------------------------------------------------------------------------------------------------------------+\n",
      "|[washington, congressional, republicans, have, new, fear, when, it, comes, to, their, health, care, lawsuit, against, the, obama, administration, they, might, win, the, incoming, trump, administration, could, choose, to, no, longer, defend, the, executive, branch, against, the, suit, which, challenges, the, administration, authority, to, spend, billions, of, dollars, on, health, insurance, subsidies, for, and, americans, handing, house, republicans, big, victory, on, issues, but, sudden, loss, of, the, disputed, subsidies, could, conceivably, cause, the, health, care, program, to, implode, leaving, millions, of, people, without, access, to, health, insurance, before, republicans, have, prepared, replacement, that, could, lead, to, chaos, in, the, insurance, market, and, spur, political, backlash, just, as, republicans, gain, full, control, of, the, government, to, stave, off, that, outcome, republicans, could, find, themselves, in, the, awkward, position, of, appropriating, huge, sums, to, temporarily, prop, up, the, obama, health, care, law, angering, conservative, voters, who, have, been, demanding, an, end, to, the, law, for, years, in, another, twist, donald, trump, administration, worried, about, preserving, executive, branch, prerogatives, could, choose, to, fight, its, republican, allies, in, the, house, on, some, central, questions, in, the, dispute, eager, to, avoid, an, ugly, political, pileup, republicans, on, capitol, hill, and, the, trump, transition, team, are, gaming, out, how, to, handle, the, lawsuit, which, after, the, election, has, been, put, in, limbo, until, at, least, late, february, by, the, united, states, court, of, appeals, for, the, district, of, columbia, circuit, they, are, not, yet, ready, to, divulge, their, strategy, given, that, this, pending, litigation, involves, the, obama, administration, and, congress, it, would, be, inappropriate, to, comment, said, phillip, blando, spokesman, for, the, trump, transition, effort, upon, taking, office, the, trump, administration, will, evaluate, this, case, and, all, related, aspects, of, the, affordable, care, act, in, potentially, decision, in, 2015, judge, rosemary, collyer, ruled, that, house, republicans, had, the, standing, to, sue, the, executive, branch, over, spending, dispute, and, that, the, obama, administration, had, been, distributing, the, health, insurance, subsidies, in, violation, of, the, constitution, without, approval, from, congress, the, justice, department, confident, that, judge, collyer, decision, would, be, reversed, quickly, appealed, and, the, subsidies, have, remained, in, place, during, the, appeal, in, successfully, seeking, temporary, halt, in, the, proceedings, after, mr, trump, won, house, republicans, last, month, told, the, court, that, they, and, the, transition, team, currently, are, discussing, potential, options, for, resolution, of, this, matter, to, take, effect, after, the, inauguration, on, jan, 20, 2017, the, suspension, of, the, case, house, lawyers, said, will, provide, the, and, his, future, administration, time, to, consider, whether, to, continue, prosecuting, or, to, otherwise, resolve, this, appeal, republican, leadership, officials, in, the, house, acknowledge, the, possibility, of, cascading, effects, if, the, payments, which, have, totaled, an, estimated, 13, billion, are, suddenly, stopped, insurers, that, receive, the, subsidies, in, exchange, for, paying, costs, such, as, deductibles, and, for, eligible, consumers, could, race, to, drop, coverage, since, they, would, be, losing, money, over, all, the, loss, of, the, subsidies, could, destabilize, the, entire, program, and, cause, lack, of, confidence, that, leads, other, insurers, to, seek, quick, exit, as, well, anticipating, that, the, trump, administration, might, not, be, inclined, to, mount, vigorous, fight, against, the, house, republicans, given, the, dim, view, of, the, health, care, law, team, of, lawyers, this, month, sought, to, intervene, in, the, case, on, behalf, of, two, participants, in, the, health, care, program, in, their, request, the, lawyers, predicted, that, deal, between, house, republicans, and, the, new, administration, to, dismiss, or, settle, the, case, will, produce, devastating, consequences, for, the, individuals, who, receive, these, reductions, as, well, as, for, the, nation, health, insurance, and, health, care, systems, generally, no, matter, what, happens, house, republicans, say, they, want, to, prevail, on, two, overarching, concepts, the, congressional, power, of, the, purse, and, the, right, of, congress, to, sue, the, executive, branch, if, it, violates, the, constitution, regarding, that, spending, power, house, republicans, contend, that, congress, never, appropriated, the, money, for, the, subsidies, as, required, by, the, constitution, in, the, suit, which, was, initially, championed, by, john, boehner, the, house, speaker, at, the, time, and, later, in, house, committee, reports, republicans, asserted, that, the, administration, desperate, for, the, funding, had, required, the, treasury, department, to, provide, it, despite, widespread, internal, skepticism, that, the, spending, was, proper, the, white, house, said, that, the, spending, was, permanent, part, of, the, law, passed, in, 2010, and, that, no, annual, appropriation, was, required, even, though, the, administration, initially, sought, one, just, as, important, to, house, republicans, judge, collyer, found, that, congress, had, the, standing, to, sue, the, white, house, on, this, issue, ruling, that, many, legal, experts, said, was, flawed, and, they, want, that, precedent, to, be, set, to, restore, congressional, leverage, over, the, executive, branch, but, on, spending, power, and, standing, the, trump, administration, may, come, under, pressure, from, advocates, of, presidential, authority, to, fight, the, house, no, matter, their, shared, views, on, health, care, since, those, precedents, could, have, broad, repercussions, it, is, complicated, set, of, dynamics, illustrating, how, quick, legal, victory, for, the, house, in, the, trump, era, might, come, with, costs, that, republicans, never, anticipated, when, they, took, on, the, obama, white, house]|\n",
      "+----------------------------------------------------------------------------------------------------------------------------------------------------------------------------------------------------------------------------------------------------------------------------------------------------------------------------------------------------------------------------------------------------------------------------------------------------------------------------------------------------------------------------------------------------------------------------------------------------------------------------------------------------------------------------------------------------------------------------------------------------------------------------------------------------------------------------------------------------------------------------------------------------------------------------------------------------------------------------------------------------------------------------------------------------------------------------------------------------------------------------------------------------------------------------------------------------------------------------------------------------------------------------------------------------------------------------------------------------------------------------------------------------------------------------------------------------------------------------------------------------------------------------------------------------------------------------------------------------------------------------------------------------------------------------------------------------------------------------------------------------------------------------------------------------------------------------------------------------------------------------------------------------------------------------------------------------------------------------------------------------------------------------------------------------------------------------------------------------------------------------------------------------------------------------------------------------------------------------------------------------------------------------------------------------------------------------------------------------------------------------------------------------------------------------------------------------------------------------------------------------------------------------------------------------------------------------------------------------------------------------------------------------------------------------------------------------------------------------------------------------------------------------------------------------------------------------------------------------------------------------------------------------------------------------------------------------------------------------------------------------------------------------------------------------------------------------------------------------------------------------------------------------------------------------------------------------------------------------------------------------------------------------------------------------------------------------------------------------------------------------------------------------------------------------------------------------------------------------------------------------------------------------------------------------------------------------------------------------------------------------------------------------------------------------------------------------------------------------------------------------------------------------------------------------------------------------------------------------------------------------------------------------------------------------------------------------------------------------------------------------------------------------------------------------------------------------------------------------------------------------------------------------------------------------------------------------------------------------------------------------------------------------------------------------------------------------------------------------------------------------------------------------------------------------------------------------------------------------------------------------------------------------------------------------------------------------------------------------------------------------------------------------------------------------------------------------------------------------------------------------------------------------------------------------------------------------------------------------------------------------------------------------------------------------------------------------------------------------------------------------------------------------------------------------------------------------------------------------------------------------------------------------------------------------------------------------------------------------------------------------------------------------------------------------------------------------------------------------------------------------------------------------------------------------------------------------------------------------------------------------------------------------------------------------------------------------------------------------------------------------------------------------------------------------------------------------------------------------------------------------------------------------------------------------------------------------------------------------------------------------------------------------------------------------------------------------------------------------------------------------------------------------------------------------------------------------------------------------------------------------------------------------------------------------------------------------------------------------------------------------------------------------------------------------------------------------------------------------------------------------------------------------------------------------------------------------------------------------------------------------------------+\n",
      "only showing top 1 row"
     ]
    }
   ],
   "source": [
    "tokenized_df.select(['tokens']).show(1,False)"
   ]
  },
  {
   "cell_type": "code",
   "execution_count": 8,
   "metadata": {},
   "outputs": [
    {
     "data": {
      "application/vnd.jupyter.widget-view+json": {
       "model_id": "cdc52d9b9c934e828e4f96c71ea21f5a",
       "version_major": 2,
       "version_minor": 0
      },
      "text/plain": [
       "VBox()"
      ]
     },
     "metadata": {},
     "output_type": "display_data"
    },
    {
     "data": {
      "application/vnd.jupyter.widget-view+json": {
       "model_id": "",
       "version_major": 2,
       "version_minor": 0
      },
      "text/plain": [
       "FloatProgress(value=0.0, bar_style='info', description='Progress:', layout=Layout(height='25px', width='50%'),…"
      ]
     },
     "metadata": {},
     "output_type": "display_data"
    }
   ],
   "source": [
    "from pyspark.ml.feature import StopWordsRemover\n",
    "stopword_removal=StopWordsRemover(inputCol='tokens',outputCol='refined_tokens')\n",
    "refined_df=stopword_removal.transform(tokenized_df)"
   ]
  },
  {
   "cell_type": "code",
   "execution_count": 9,
   "metadata": {},
   "outputs": [
    {
     "data": {
      "application/vnd.jupyter.widget-view+json": {
       "model_id": "43fdaf1c5b82433f980a1c484419a8d8",
       "version_major": 2,
       "version_minor": 0
      },
      "text/plain": [
       "VBox()"
      ]
     },
     "metadata": {},
     "output_type": "display_data"
    },
    {
     "data": {
      "application/vnd.jupyter.widget-view+json": {
       "model_id": "",
       "version_major": 2,
       "version_minor": 0
      },
      "text/plain": [
       "FloatProgress(value=0.0, bar_style='info', description='Progress:', layout=Layout(height='25px', width='50%'),…"
      ]
     },
     "metadata": {},
     "output_type": "display_data"
    },
    {
     "name": "stdout",
     "output_type": "stream",
     "text": [
      "+--------------------+--------------------+\n",
      "|              tokens|      refined_tokens|\n",
      "+--------------------+--------------------+\n",
      "|[washington, cong...|[washington, cong...|\n",
      "+--------------------+--------------------+\n",
      "only showing top 1 row"
     ]
    }
   ],
   "source": [
    "refined_df.select(['tokens','refined_tokens']).show(1,True)"
   ]
  },
  {
   "cell_type": "markdown",
   "metadata": {},
   "source": [
    "## Vectorizing content"
   ]
  },
  {
   "cell_type": "code",
   "execution_count": 10,
   "metadata": {},
   "outputs": [
    {
     "data": {
      "application/vnd.jupyter.widget-view+json": {
       "model_id": "eb88115f66ca46c787bcd917bca105d2",
       "version_major": 2,
       "version_minor": 0
      },
      "text/plain": [
       "VBox()"
      ]
     },
     "metadata": {},
     "output_type": "display_data"
    },
    {
     "data": {
      "application/vnd.jupyter.widget-view+json": {
       "model_id": "",
       "version_major": 2,
       "version_minor": 0
      },
      "text/plain": [
       "FloatProgress(value=0.0, bar_style='info', description='Progress:', layout=Layout(height='25px', width='50%'),…"
      ]
     },
     "metadata": {},
     "output_type": "display_data"
    }
   ],
   "source": [
    "# Count Vectorizer\n",
    "from pyspark.ml.feature import CountVectorizer\n",
    "count_vec = CountVectorizer(inputCol='refined_tokens',outputCol='features')\n",
    "cv_df=count_vec.fit(refined_df).transform(refined_df)"
   ]
  },
  {
   "cell_type": "code",
   "execution_count": 11,
   "metadata": {},
   "outputs": [
    {
     "data": {
      "application/vnd.jupyter.widget-view+json": {
       "model_id": "4f8603bf1f62417aae5c809fde35d73c",
       "version_major": 2,
       "version_minor": 0
      },
      "text/plain": [
       "VBox()"
      ]
     },
     "metadata": {},
     "output_type": "display_data"
    },
    {
     "data": {
      "application/vnd.jupyter.widget-view+json": {
       "model_id": "",
       "version_major": 2,
       "version_minor": 0
      },
      "text/plain": [
       "FloatProgress(value=0.0, bar_style='info', description='Progress:', layout=Layout(height='25px', width='50%'),…"
      ]
     },
     "metadata": {},
     "output_type": "display_data"
    },
    {
     "name": "stdout",
     "output_type": "stream",
     "text": [
      "+--------------------+--------------------+--------------------+\n",
      "|             content|      refined_tokens|            features|\n",
      "+--------------------+--------------------+--------------------+\n",
      "|WASHINGTON  —   C...|[washington, cong...|(259752,[0,1,2,3,...|\n",
      "|After the bullet ...|[bullet, shells, ...|(259752,[0,2,3,4,...|\n",
      "|When Walt Disney’...|[walt, disney, ba...|(259752,[0,2,3,4,...|\n",
      "|Death may be the ...|[death, may, grea...|(259752,[0,2,3,4,...|\n",
      "|SEOUL, South Kore...|[seoul, south, ko...|(259752,[0,1,4,5,...|\n",
      "|LONDON  —   Queen...|[london, queen, e...|(259752,[0,4,5,8,...|\n",
      "|BEIJING  —   Pres...|[beijing, preside...|(259752,[0,1,2,3,...|\n",
      "|Danny Cahill stoo...|[danny, cahill, s...|(259752,[0,2,3,4,...|\n",
      "|Just how   is Hil...|[hillary, kerr, f...|(259752,[0,2,3,4,...|\n",
      "|Angels are everyw...|[angels, everywhe...|(259752,[0,2,3,4,...|\n",
      "+--------------------+--------------------+--------------------+\n",
      "only showing top 10 rows"
     ]
    }
   ],
   "source": [
    "cv_df.select(['content','refined_tokens','features']).show(10, True)"
   ]
  },
  {
   "cell_type": "code",
   "execution_count": null,
   "metadata": {},
   "outputs": [],
   "source": [
    "'''\n",
    "#target directory \n",
    "write_uri='s3n://tet-project-3/data-csv/clean_data/'\n",
    "#cv_df.coalesce(1).write.format(\"csv\").option(\"header\",\"true\").save(write_uri)\n",
    "cv_df.write.format(\"com.databricks.spark.avro\").save(write_uri)\n",
    "'''\n"
   ]
  },
  {
   "cell_type": "markdown",
   "metadata": {},
   "source": [
    "## Random Forest for k means in hyperparameters searching"
   ]
  },
  {
   "cell_type": "markdown",
   "metadata": {},
   "source": [
    "### Elbow method"
   ]
  },
  {
   "cell_type": "code",
   "execution_count": null,
   "metadata": {},
   "outputs": [],
   "source": [
    "# Finding optimal K\n",
    "from pyspark.ml.clustering import KMeans\n",
    "\n",
    "import numpy as np\n",
    "cost = np.zeros(20)\n",
    "\n",
    "for k in range(2,20):\n",
    "    print(\"On progress -> K:\",k)\n",
    "    kmeans = KMeans()\\\n",
    "            .setK(k)\\\n",
    "            .setSeed(1) \\\n",
    "            .setFeaturesCol(\"features\")\\\n",
    "            .setPredictionCol(\"prediction\")\n",
    "\n",
    "    model = kmeans.fit(cv_df)\n",
    "    cost[k] = model.computeCost(cv_df) # requires Spark 2.0 or later\n",
    "    \n",
    "'''\n",
    "[\n",
    "0.0,\n",
    "0.0,\n",
    "141618503.0239381,\n",
    "135548737.71649304,\n",
    "132498924.75738414,\n",
    "130001866.08594018,\n",
    "129669847.53486447,\n",
    "126992486.45820226,\n",
    "126005391.3878738,\n",
    "126674296.42891622,\n",
    "125201728.46645792,\n",
    "124607650.1308867,\n",
    "124337556.3800629,\n",
    "124049005.8776054,\n",
    "122377017.12177089,\n",
    "122218967.42211193,\n",
    "121157573.45078428,\n",
    "120665480.17892012,\n",
    "120456281.04646748,\n",
    "120378824.04720232,\n",
    "]\n",
    "\n",
    "'''"
   ]
  },
  {
   "cell_type": "markdown",
   "metadata": {},
   "source": [
    "### Silhouette analysis"
   ]
  },
  {
   "cell_type": "code",
   "execution_count": 28,
   "metadata": {},
   "outputs": [
    {
     "data": {
      "application/vnd.jupyter.widget-view+json": {
       "model_id": "133deb95b74d4f38bf7b2d60f3ede305",
       "version_major": 2,
       "version_minor": 0
      },
      "text/plain": [
       "VBox()"
      ]
     },
     "metadata": {},
     "output_type": "display_data"
    },
    {
     "data": {
      "application/vnd.jupyter.widget-view+json": {
       "model_id": "",
       "version_major": 2,
       "version_minor": 0
      },
      "text/plain": [
       "FloatProgress(value=0.0, bar_style='info', description='Progress:', layout=Layout(height='25px', width='50%'),…"
      ]
     },
     "metadata": {},
     "output_type": "display_data"
    }
   ],
   "source": [
    "import time;\n",
    "import numpy as np\n",
    "\n",
    "from pyspark.ml.clustering import KMeans\n",
    "from pyspark.ml.evaluation import ClusteringEvaluator\n",
    "\n",
    "def optimal_k(df_in,index_col,k_min, k_max):\n",
    "    '''\n",
    "    Determine optimal number of clusters by using Silhoutte Score Analysis.\n",
    "    :param df_in: the input dataframe\n",
    "    :param index_col: the name of the index column\n",
    "    :param k_min: the train dataset\n",
    "    :param k_min: the minmum number of the clusters\n",
    "    :param k_max: the maxmum number of the clusters\n",
    "    :param num_runs: the number of runs for each fixed clusters\n",
    "\n",
    "    :return k: optimal number of the clusters\n",
    "    :return silh_lst: Silhouette score\n",
    "    :return r_table: the running results table\n",
    "\n",
    "    :author: Wenqiang Feng\n",
    "    :email:  von198@gmail.com\n",
    "    '''\n",
    "\n",
    "    start = time.time()\n",
    "    \n",
    "    silh_lst = []\n",
    "    k_lst = np.arange(k_min, k_max+1)\n",
    "\n",
    "    for k in k_lst:\n",
    "        time_per_k = time.time()\n",
    "        # Trains a k-means model.\n",
    "        kmeans = KMeans()\\\n",
    "                .setK(k)\\\n",
    "                .setSeed(1)\n",
    "        model = kmeans.fit(df_in)\n",
    "\n",
    "        # Make predictions\n",
    "        predictions = model.transform(df_in)\n",
    "\n",
    "        # Evaluate clustering by computing Silhouette score\n",
    "        evaluator = ClusteringEvaluator()\n",
    "        silhouette = evaluator.evaluate(predictions)\n",
    "        \n",
    "        #Timming\n",
    "        elapsed =  time.time() - time_per_k\n",
    "        total_time = \"%8.0f s.\"%(elapsed)\n",
    "        silh_lst.append([k,silhouette,elapsed])\n",
    "    \n",
    "    elapsed = time.time() - start\n",
    "    elapsed =  \"%8.0f s.\"%(elapsed)\n",
    "    print('+------------------------------------------------------------+')\n",
    "    print(\"|         The finding optimal k phase took \", elapsed, \"    |\")\n",
    "    print('+------------------------------------------------------------+')\n",
    "\n",
    "\n",
    "    return silh_lst,elapsed"
   ]
  },
  {
   "cell_type": "code",
   "execution_count": 29,
   "metadata": {},
   "outputs": [
    {
     "data": {
      "application/vnd.jupyter.widget-view+json": {
       "model_id": "29509d94b924449c82a095e22f8e06ea",
       "version_major": 2,
       "version_minor": 0
      },
      "text/plain": [
       "VBox()"
      ]
     },
     "metadata": {},
     "output_type": "display_data"
    },
    {
     "data": {
      "application/vnd.jupyter.widget-view+json": {
       "model_id": "",
       "version_major": 2,
       "version_minor": 0
      },
      "text/plain": [
       "FloatProgress(value=0.0, bar_style='info', description='Progress:', layout=Layout(height='25px', width='50%'),…"
      ]
     },
     "metadata": {},
     "output_type": "display_data"
    },
    {
     "name": "stdout",
     "output_type": "stream",
     "text": [
      "+------------------------------------------------------------+\n",
      "|         The finding optimal k phase took      3561 s.     |\n",
      "+------------------------------------------------------------+"
     ]
    }
   ],
   "source": [
    "silh_lst,elapsed = optimal_k(cv_df,'features',4, 15)"
   ]
  },
  {
   "cell_type": "code",
   "execution_count": 30,
   "metadata": {},
   "outputs": [
    {
     "data": {
      "application/vnd.jupyter.widget-view+json": {
       "model_id": "6a938e8494684deb864a6597a53e7610",
       "version_major": 2,
       "version_minor": 0
      },
      "text/plain": [
       "VBox()"
      ]
     },
     "metadata": {},
     "output_type": "display_data"
    },
    {
     "data": {
      "application/vnd.jupyter.widget-view+json": {
       "model_id": "",
       "version_major": 2,
       "version_minor": 0
      },
      "text/plain": [
       "FloatProgress(value=0.0, bar_style='info', description='Progress:', layout=Layout(height='25px', width='50%'),…"
      ]
     },
     "metadata": {},
     "output_type": "display_data"
    },
    {
     "name": "stdout",
     "output_type": "stream",
     "text": [
      "Total time taken ->     3561 s.\n",
      "K |\t slih\t\t\t |time_used\n",
      " 4 |\t 0.5107027566216764t\t\t |319.9010844230652\n",
      " 5 |\t 0.5808733148193805t\t\t |259.93979024887085\n",
      " 6 |\t 0.44831791237608604t\t\t |262.7337598800659\n",
      " 7 |\t 0.41966227953778296t\t\t |292.3457410335541\n",
      " 8 |\t 0.4141751880203832t\t\t |302.30517578125\n",
      " 9 |\t 0.4151641500402796t\t\t |291.3599603176117\n",
      " 10 |\t 0.4099641432723832t\t\t |284.6977937221527\n",
      " 11 |\t 0.4074163958964356t\t\t |267.6127324104309\n",
      " 12 |\t 0.4123863121470718t\t\t |281.12498784065247\n",
      " 13 |\t 0.40495262521199094t\t\t |311.3715479373932\n",
      " 14 |\t 0.36444407461420714t\t\t |342.0701467990875\n",
      " 15 |\t 0.3886007827936504t\t\t |345.98229789733887"
     ]
    }
   ],
   "source": [
    "print(\"Total time taken ->\", elapsed)\n",
    "print(\"K |\\t slih\\t\\t\\t |time_used\")\n",
    "for row in silh_lst:\n",
    "    print(\" {} |\\t {}t\\t\\t |{}\".format(row[0],row[1],row[2]))"
   ]
  },
  {
   "cell_type": "code",
   "execution_count": 31,
   "metadata": {},
   "outputs": [
    {
     "data": {
      "application/vnd.jupyter.widget-view+json": {
       "model_id": "322d2a43dbfd49278fe0ee93a8ea807a",
       "version_major": 2,
       "version_minor": 0
      },
      "text/plain": [
       "VBox()"
      ]
     },
     "metadata": {},
     "output_type": "display_data"
    },
    {
     "data": {
      "application/vnd.jupyter.widget-view+json": {
       "model_id": "",
       "version_major": 2,
       "version_minor": 0
      },
      "text/plain": [
       "FloatProgress(value=0.0, bar_style='info', description='Progress:', layout=Layout(height='25px', width='50%'),…"
      ]
     },
     "metadata": {},
     "output_type": "display_data"
    },
    {
     "name": "stdout",
     "output_type": "stream",
     "text": [
      "[[4, 0.5107027566216764, 319.9010844230652], [5, 0.5808733148193805, 259.93979024887085], [6, 0.44831791237608604, 262.7337598800659], [7, 0.41966227953778296, 292.3457410335541], [8, 0.4141751880203832, 302.30517578125], [9, 0.4151641500402796, 291.3599603176117], [10, 0.4099641432723832, 284.6977937221527], [11, 0.4074163958964356, 267.6127324104309], [12, 0.4123863121470718, 281.12498784065247], [13, 0.40495262521199094, 311.3715479373932], [14, 0.36444407461420714, 342.0701467990875], [15, 0.3886007827936504, 345.98229789733887]]"
     ]
    }
   ],
   "source": [
    "silh_lst"
   ]
  },
  {
   "cell_type": "markdown",
   "metadata": {},
   "source": [
    "## Kmeans functions "
   ]
  },
  {
   "cell_type": "code",
   "execution_count": 55,
   "metadata": {},
   "outputs": [
    {
     "data": {
      "application/vnd.jupyter.widget-view+json": {
       "model_id": "0ba1a25ac2214edf88244f9806306f3d",
       "version_major": 2,
       "version_minor": 0
      },
      "text/plain": [
       "VBox()"
      ]
     },
     "metadata": {},
     "output_type": "display_data"
    },
    {
     "data": {
      "application/vnd.jupyter.widget-view+json": {
       "model_id": "",
       "version_major": 2,
       "version_minor": 0
      },
      "text/plain": [
       "FloatProgress(value=0.0, bar_style='info', description='Progress:', layout=Layout(height='25px', width='50%'),…"
      ]
     },
     "metadata": {},
     "output_type": "display_data"
    }
   ],
   "source": [
    "from pyspark.ml.clustering import KMeans\n",
    "def generate_kMeans_model (k, dt_intern):\n",
    "    kmeans = KMeans()\\\n",
    "            .setK(k)\\\n",
    "            .setSeed(1) \\\n",
    "            .setFeaturesCol(\"features\")\\\n",
    "            .setPredictionCol(\"prediction\")\n",
    "\n",
    "    model = kmeans.fit(dt_intern)\n",
    "    return model.transform(dt_intern)"
   ]
  },
  {
   "cell_type": "code",
   "execution_count": 67,
   "metadata": {},
   "outputs": [
    {
     "data": {
      "application/vnd.jupyter.widget-view+json": {
       "model_id": "76747c3d21034618bad28fa1efa2ae22",
       "version_major": 2,
       "version_minor": 0
      },
      "text/plain": [
       "VBox()"
      ]
     },
     "metadata": {},
     "output_type": "display_data"
    },
    {
     "data": {
      "application/vnd.jupyter.widget-view+json": {
       "model_id": "",
       "version_major": 2,
       "version_minor": 0
      },
      "text/plain": [
       "FloatProgress(value=0.0, bar_style='info', description='Progress:', layout=Layout(height='25px', width='50%'),…"
      ]
     },
     "metadata": {},
     "output_type": "display_data"
    }
   ],
   "source": [
    "from pyspark.sql.functions import udf\n",
    "from pyspark.sql.types import StringType\n",
    "\n",
    "def kmean_df_analitic(df_kmean):\n",
    "    grouped_df = df_kmean.groupBy('prediction').count()\n",
    "    total = df_kmean.count()\n",
    "    \n",
    "    porcent_udf = udf(lambda row_count: '{:.3f}%'.format((row_count / total) * 100 ), StringType())\n",
    "    return grouped_df.withColumn('Data representation', porcent_udf(grouped_df['count']))\n",
    "    "
   ]
  },
  {
   "cell_type": "markdown",
   "metadata": {},
   "source": [
    "### Silhouette tells us to do it with 5"
   ]
  },
  {
   "cell_type": "code",
   "execution_count": 56,
   "metadata": {},
   "outputs": [
    {
     "data": {
      "application/vnd.jupyter.widget-view+json": {
       "model_id": "d64aaee2e9d8479eb563d6d3dd20ef87",
       "version_major": 2,
       "version_minor": 0
      },
      "text/plain": [
       "VBox()"
      ]
     },
     "metadata": {},
     "output_type": "display_data"
    },
    {
     "data": {
      "application/vnd.jupyter.widget-view+json": {
       "model_id": "",
       "version_major": 2,
       "version_minor": 0
      },
      "text/plain": [
       "FloatProgress(value=0.0, bar_style='info', description='Progress:', layout=Layout(height='25px', width='50%'),…"
      ]
     },
     "metadata": {},
     "output_type": "display_data"
    },
    {
     "name": "stdout",
     "output_type": "stream",
     "text": [
      "+--------------------+--------------------+--------------------+----------+\n",
      "|             content|      refined_tokens|            features|prediction|\n",
      "+--------------------+--------------------+--------------------+----------+\n",
      "|WASHINGTON  —   C...|[washington, cong...|(259752,[0,1,2,3,...|         4|\n",
      "|After the bullet ...|[bullet, shells, ...|(259752,[0,2,3,4,...|         3|\n",
      "|When Walt Disney’...|[walt, disney, ba...|(259752,[0,2,3,4,...|         4|\n",
      "|Death may be the ...|[death, may, grea...|(259752,[0,2,3,4,...|         4|\n",
      "|SEOUL, South Kore...|[seoul, south, ko...|(259752,[0,1,4,5,...|         4|\n",
      "+--------------------+--------------------+--------------------+----------+\n",
      "only showing top 5 rows"
     ]
    }
   ],
   "source": [
    "# The optimal is 5\n",
    "k = 5\n",
    "kmeans_df = generate_kMeans_model(k,cv_df)\n",
    "kmeans_df.select(['content','refined_tokens','features','prediction']).show(k, True) "
   ]
  },
  {
   "cell_type": "code",
   "execution_count": 68,
   "metadata": {},
   "outputs": [
    {
     "data": {
      "application/vnd.jupyter.widget-view+json": {
       "model_id": "259c3cd125d540e3b50b55b04ed8edb8",
       "version_major": 2,
       "version_minor": 0
      },
      "text/plain": [
       "VBox()"
      ]
     },
     "metadata": {},
     "output_type": "display_data"
    },
    {
     "data": {
      "application/vnd.jupyter.widget-view+json": {
       "model_id": "",
       "version_major": 2,
       "version_minor": 0
      },
      "text/plain": [
       "FloatProgress(value=0.0, bar_style='info', description='Progress:', layout=Layout(height='25px', width='50%'),…"
      ]
     },
     "metadata": {},
     "output_type": "display_data"
    },
    {
     "name": "stdout",
     "output_type": "stream",
     "text": [
      "+----------+------+-------------------+\n",
      "|prediction| count|Data representation|\n",
      "+----------+------+-------------------+\n",
      "|         1|    18|             0.010%|\n",
      "|         3|  1734|             0.936%|\n",
      "|         4| 39743|            21.461%|\n",
      "|         2|    70|             0.038%|\n",
      "|         0|143621|            77.555%|\n",
      "+----------+------+-------------------+"
     ]
    }
   ],
   "source": [
    "df_grouped = kmean_df_analitic(kmeans_df)\n",
    "df_grouped.show()"
   ]
  },
  {
   "cell_type": "markdown",
   "metadata": {},
   "source": [
    "### Elbow with 9"
   ]
  },
  {
   "cell_type": "code",
   "execution_count": 69,
   "metadata": {},
   "outputs": [
    {
     "data": {
      "application/vnd.jupyter.widget-view+json": {
       "model_id": "89cd98ebd0354e0ab627130462bbdedc",
       "version_major": 2,
       "version_minor": 0
      },
      "text/plain": [
       "VBox()"
      ]
     },
     "metadata": {},
     "output_type": "display_data"
    },
    {
     "data": {
      "application/vnd.jupyter.widget-view+json": {
       "model_id": "",
       "version_major": 2,
       "version_minor": 0
      },
      "text/plain": [
       "FloatProgress(value=0.0, bar_style='info', description='Progress:', layout=Layout(height='25px', width='50%'),…"
      ]
     },
     "metadata": {},
     "output_type": "display_data"
    },
    {
     "name": "stdout",
     "output_type": "stream",
     "text": [
      "+--------------------+--------------------+--------------------+----------+\n",
      "|             content|      refined_tokens|            features|prediction|\n",
      "+--------------------+--------------------+--------------------+----------+\n",
      "|WASHINGTON  —   C...|[washington, cong...|(259752,[0,1,2,3,...|         7|\n",
      "|After the bullet ...|[bullet, shells, ...|(259752,[0,2,3,4,...|         8|\n",
      "|When Walt Disney’...|[walt, disney, ba...|(259752,[0,2,3,4,...|         4|\n",
      "|Death may be the ...|[death, may, grea...|(259752,[0,2,3,4,...|         3|\n",
      "|SEOUL, South Kore...|[seoul, south, ko...|(259752,[0,1,4,5,...|         6|\n",
      "|LONDON  —   Queen...|[london, queen, e...|(259752,[0,4,5,8,...|         1|\n",
      "|BEIJING  —   Pres...|[beijing, preside...|(259752,[0,1,2,3,...|         0|\n",
      "|Danny Cahill stoo...|[danny, cahill, s...|(259752,[0,2,3,4,...|         8|\n",
      "|Just how   is Hil...|[hillary, kerr, f...|(259752,[0,2,3,4,...|         4|\n",
      "|Angels are everyw...|[angels, everywhe...|(259752,[0,2,3,4,...|         0|\n",
      "|With Donald J. Tr...|[donald, trump, t...|(259752,[0,1,2,4,...|         4|\n",
      "|THOMPSONS, Tex.  ...|[thompsons, tex, ...|(259752,[0,1,2,4,...|         6|\n",
      "|WEST PALM BEACH, ...|[west, palm, beac...|(259752,[0,1,2,3,...|         4|\n",
      "|This article is p...|[article, part, s...|(259752,[3,4,5,6,...|         0|\n",
      "|It’s the season f...|[season, family, ...|(259752,[0,2,3,4,...|         3|\n",
      "|Finally. The Seco...|[finally, second,...|(259752,[0,2,3,4,...|         6|\n",
      "|pages into the   ...|[pages, journal, ...|(259752,[0,2,3,5,...|         4|\n",
      "|MUMBAI, India  — ...|[mumbai, india, b...|(259752,[0,1,2,3,...|         4|\n",
      "|BAGHDAD  —   A su...|[baghdad, suicide...|(259752,[0,3,5,7,...|         0|\n",
      "|SYDNEY, Australia...|[sydney, australi...|(259752,[0,3,9,11...|         0|\n",
      "|When the Green Ba...|[green, bay, pack...|(259752,[0,2,4,6,...|         0|\n",
      "|Mariah Carey suff...|[mariah, carey, s...|(259752,[0,2,3,4,...|         6|\n",
      "|PARIS  —   When t...|[paris, islamic, ...|(259752,[0,2,3,4,...|         6|\n",
      "|Pop music and fas...|[pop, music, fash...|(259752,[0,2,3,4,...|         3|\n",
      "|WASHINGTON  —   T...|[washington, powe...|(259752,[0,1,2,3,...|         7|\n",
      "|WASHINGTON  —   I...|[washington, time...|(259752,[0,1,4,5,...|         0|\n",
      "|Good morning.  He...|[good, morning, n...|(259752,[0,1,2,3,...|         0|\n",
      "|The body of the I...|[body, iraqi, pri...|(259752,[0,1,2,3,...|         6|\n",
      "|ISTANBUL  —   The...|[istanbul, islami...|(259752,[0,2,3,4,...|         6|\n",
      "|WASHINGTON  —   P...|[washington, pres...|(259752,[0,1,2,3,...|         4|\n",
      "|With the year win...|[year, winding, n...|(259752,[0,2,4,5,...|         6|\n",
      "|JERUSALEM  —   Is...|[jerusalem, israe...|(259752,[0,1,2,3,...|         4|\n",
      "|PARIS  —   If the...|[paris, world, en...|(259752,[0,2,3,4,...|         0|\n",
      "|OTTAWA  —   It wa...|[ottawa, 99, pass...|(259752,[0,2,4,6,...|         0|\n",
      "|RIO DE JANEIRO  —...|[rio, de, janeiro...|(259752,[0,2,3,5,...|         0|\n",
      "|After the explosi...|[explosion, septe...|(259752,[0,2,4,5,...|         0|\n",
      "|In the basement o...|[basement, mammot...|(259752,[0,1,2,3,...|         6|\n",
      "|Writers are diffe...|[writers, differe...|(259752,[0,2,3,4,...|         6|\n",
      "|In 2007, Rey Canu...|[2007, rey, canun...|(259752,[0,2,3,4,...|         6|\n",
      "|WASHINGTON  —   I...|[washington, supp...|(259752,[0,1,2,3,...|         6|\n",
      "|(Want to get this...|[want, get, brief...|(259752,[0,1,2,3,...|         0|\n",
      "|WASHINGTON  —   T...|[washington, cong...|(259752,[0,1,3,4,...|         7|\n",
      "|WASHINGTON  —    ...|[washington, dona...|(259752,[0,1,2,3,...|         4|\n",
      "|■   Donald J. Tru...|[donald, trump, a...|(259752,[0,1,2,3,...|         4|\n",
      "|LOS ANGELES  —   ...|[los, angeles, gi...|(259752,[0,1,2,3,...|         6|\n",
      "|JERUSALEM  —   Th...|[jerusalem, fate,...|(259752,[0,2,5,6,...|         6|\n",
      "|Stuck at your wor...|[stuck, work, des...|(259752,[0,2,3,4,...|         0|\n",
      "|It’s that time of...|[time, year, fina...|(259752,[2,3,8,16...|         1|\n",
      "|For Megyn Kelly, ...|[megyn, kelly, sh...|(259752,[0,1,2,3,...|         6|\n",
      "|Megyn Kelly’s new...|[megyn, kelly, ne...|(259752,[0,1,2,4,...|         0|\n",
      "+--------------------+--------------------+--------------------+----------+\n",
      "only showing top 50 rows"
     ]
    }
   ],
   "source": [
    "# My Optimal\n",
    "k = 9\n",
    "kmeans_df = generate_kMeans_model (k, cv_df)\n",
    "kmeans_df.select(['content','refined_tokens','features','prediction']).show(50, True) "
   ]
  },
  {
   "cell_type": "code",
   "execution_count": 70,
   "metadata": {},
   "outputs": [
    {
     "data": {
      "application/vnd.jupyter.widget-view+json": {
       "model_id": "fb28b314b42345868162bbbed6eddc47",
       "version_major": 2,
       "version_minor": 0
      },
      "text/plain": [
       "VBox()"
      ]
     },
     "metadata": {},
     "output_type": "display_data"
    },
    {
     "data": {
      "application/vnd.jupyter.widget-view+json": {
       "model_id": "",
       "version_major": 2,
       "version_minor": 0
      },
      "text/plain": [
       "FloatProgress(value=0.0, bar_style='info', description='Progress:', layout=Layout(height='25px', width='50%'),…"
      ]
     },
     "metadata": {},
     "output_type": "display_data"
    },
    {
     "name": "stdout",
     "output_type": "stream",
     "text": [
      "+----------+------+-------------------+\n",
      "|prediction| count|Data representation|\n",
      "+----------+------+-------------------+\n",
      "|         1|103371|            55.820%|\n",
      "|         6| 11848|             6.398%|\n",
      "|         3| 10726|             5.792%|\n",
      "|         5|   235|             0.127%|\n",
      "|         4|  1677|             0.906%|\n",
      "|         8|  1000|             0.540%|\n",
      "|         7|  7406|             3.999%|\n",
      "|         2|    26|             0.014%|\n",
      "|         0| 48897|            26.404%|\n",
      "+----------+------+-------------------+"
     ]
    }
   ],
   "source": [
    "df_grouped = kmean_df_analitic(kmeans_df)\n",
    "df_grouped.show()"
   ]
  }
 ],
 "metadata": {
  "kernelspec": {
   "display_name": "PySpark",
   "language": "",
   "name": "pysparkkernel"
  },
  "language_info": {
   "codemirror_mode": {
    "name": "python",
    "version": 2
   },
   "mimetype": "text/x-python",
   "name": "pyspark",
   "pygments_lexer": "python2"
  }
 },
 "nbformat": 4,
 "nbformat_minor": 2
}
