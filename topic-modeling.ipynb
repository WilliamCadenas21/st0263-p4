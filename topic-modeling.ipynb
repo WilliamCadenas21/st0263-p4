{
 "cells": [
  {
   "cell_type": "code",
   "execution_count": 1,
   "metadata": {},
   "outputs": [
    {
     "data": {
      "application/vnd.jupyter.widget-view+json": {
       "model_id": "86f19ecff08e4c20a8b805ba70387e3c",
       "version_major": 2,
       "version_minor": 0
      },
      "text/plain": [
       "VBox()"
      ]
     },
     "metadata": {},
     "output_type": "display_data"
    },
    {
     "name": "stdout",
     "output_type": "stream",
     "text": [
      "Starting Spark application\n"
     ]
    },
    {
     "data": {
      "text/html": [
       "<table>\n",
       "<tr><th>ID</th><th>YARN Application ID</th><th>Kind</th><th>State</th><th>Spark UI</th><th>Driver log</th><th>Current session?</th></tr><tr><td>0</td><td>application_1574370755158_0001</td><td>pyspark</td><td>idle</td><td><a target=\"_blank\" href=\"http://ip-172-31-34-147.ec2.internal:20888/proxy/application_1574370755158_0001/\">Link</a></td><td><a target=\"_blank\" href=\"http://ip-172-31-45-32.ec2.internal:8042/node/containerlogs/container_1574370755158_0001_01_000001/livy\">Link</a></td><td>✔</td></tr></table>"
      ],
      "text/plain": [
       "<IPython.core.display.HTML object>"
      ]
     },
     "metadata": {},
     "output_type": "display_data"
    },
    {
     "data": {
      "application/vnd.jupyter.widget-view+json": {
       "model_id": "",
       "version_major": 2,
       "version_minor": 0
      },
      "text/plain": [
       "FloatProgress(value=0.0, bar_style='info', description='Progress:', layout=Layout(height='25px', width='50%'),…"
      ]
     },
     "metadata": {},
     "output_type": "display_data"
    },
    {
     "name": "stdout",
     "output_type": "stream",
     "text": [
      "SparkSession available as 'spark'.\n"
     ]
    },
    {
     "data": {
      "application/vnd.jupyter.widget-view+json": {
       "model_id": "",
       "version_major": 2,
       "version_minor": 0
      },
      "text/plain": [
       "FloatProgress(value=0.0, bar_style='info', description='Progress:', layout=Layout(height='25px', width='50%'),…"
      ]
     },
     "metadata": {},
     "output_type": "display_data"
    }
   ],
   "source": [
    "from pyspark.sql import SparkSession\n",
    "\n",
    "spark = SparkSession.builder.appName('proyecto-4-news').getOrCreate()"
   ]
  },
  {
   "cell_type": "code",
   "execution_count": 2,
   "metadata": {},
   "outputs": [
    {
     "data": {
      "application/vnd.jupyter.widget-view+json": {
       "model_id": "80b6cfcc95194e67baf815b9b3a444f0",
       "version_major": 2,
       "version_minor": 0
      },
      "text/plain": [
       "VBox()"
      ]
     },
     "metadata": {},
     "output_type": "display_data"
    },
    {
     "data": {
      "application/vnd.jupyter.widget-view+json": {
       "model_id": "",
       "version_major": 2,
       "version_minor": 0
      },
      "text/plain": [
       "FloatProgress(value=0.0, bar_style='info', description='Progress:', layout=Layout(height='25px', width='50%'),…"
      ]
     },
     "metadata": {},
     "output_type": "display_data"
    }
   ],
   "source": [
    "'''Load previously merged data'''\n",
    "\n",
    "bucket = 's3://tet-project-3/data-csv/join/'\n",
    "\n",
    "df = spark.read.csv(bucket + 'articles.csv',inferSchema=True,header=True)"
   ]
  },
  {
   "cell_type": "code",
   "execution_count": 3,
   "metadata": {},
   "outputs": [
    {
     "data": {
      "application/vnd.jupyter.widget-view+json": {
       "model_id": "8cd4bb2dcff94b10a81b7d4894f27847",
       "version_major": 2,
       "version_minor": 0
      },
      "text/plain": [
       "VBox()"
      ]
     },
     "metadata": {},
     "output_type": "display_data"
    },
    {
     "data": {
      "application/vnd.jupyter.widget-view+json": {
       "model_id": "",
       "version_major": 2,
       "version_minor": 0
      },
      "text/plain": [
       "FloatProgress(value=0.0, bar_style='info', description='Progress:', layout=Layout(height='25px', width='50%'),…"
      ]
     },
     "metadata": {},
     "output_type": "display_data"
    },
    {
     "name": "stdout",
     "output_type": "stream",
     "text": [
      "+---+-----+--------------------+--------------+--------------------+----------+------+-----+----+--------------------+\n",
      "|_c0|   id|               title|   publication|              author|      date|  year|month| url|             content|\n",
      "+---+-----+--------------------+--------------+--------------------+----------+------+-----+----+--------------------+\n",
      "|  0|17283|House Republicans...|New York Times|          Carl Hulse|2016-12-31|2016.0| 12.0|null|WASHINGTON  —   C...|\n",
      "|  1|17284|Rift Between Offi...|New York Times|Benjamin Mueller ...|2017-06-19|2017.0|  6.0|null|After the bullet ...|\n",
      "|  2|17285|Tyrus Wong, ‘Bamb...|New York Times|        Margalit Fox|2017-01-06|2017.0|  1.0|null|When Walt Disney’...|\n",
      "|  3|17286|Among Deaths in 2...|New York Times|    William McDonald|2017-04-10|2017.0|  4.0|null|Death may be the ...|\n",
      "|  4|17287|Kim Jong-un Says ...|New York Times|       Choe Sang-Hun|2017-01-02|2017.0|  1.0|null|SEOUL, South Kore...|\n",
      "+---+-----+--------------------+--------------+--------------------+----------+------+-----+----+--------------------+\n",
      "only showing top 5 rows"
     ]
    }
   ],
   "source": [
    "'''Check everything is OK'''\n",
    "\n",
    "df.show(5)"
   ]
  },
  {
   "cell_type": "code",
   "execution_count": 4,
   "metadata": {},
   "outputs": [
    {
     "data": {
      "application/vnd.jupyter.widget-view+json": {
       "model_id": "d1b24e3cf07d458c820b971fa216cc17",
       "version_major": 2,
       "version_minor": 0
      },
      "text/plain": [
       "VBox()"
      ]
     },
     "metadata": {},
     "output_type": "display_data"
    },
    {
     "data": {
      "application/vnd.jupyter.widget-view+json": {
       "model_id": "",
       "version_major": 2,
       "version_minor": 0
      },
      "text/plain": [
       "FloatProgress(value=0.0, bar_style='info', description='Progress:', layout=Layout(height='25px', width='50%'),…"
      ]
     },
     "metadata": {},
     "output_type": "display_data"
    }
   ],
   "source": [
    "'''Remove null values from content'''\n",
    "\n",
    "from pyspark.sql.functions import when, col, coalesce, array\n",
    "\n",
    "fill = array().cast(\"string\")\n",
    "null_free = coalesce(col(\"content\"), fill)\n",
    "df = df.withColumn(\"null_free_content\", null_free)"
   ]
  },
  {
   "cell_type": "code",
   "execution_count": 5,
   "metadata": {},
   "outputs": [
    {
     "data": {
      "application/vnd.jupyter.widget-view+json": {
       "model_id": "169d2936faba40feb1992e60f392158e",
       "version_major": 2,
       "version_minor": 0
      },
      "text/plain": [
       "VBox()"
      ]
     },
     "metadata": {},
     "output_type": "display_data"
    },
    {
     "data": {
      "application/vnd.jupyter.widget-view+json": {
       "model_id": "",
       "version_major": 2,
       "version_minor": 0
      },
      "text/plain": [
       "FloatProgress(value=0.0, bar_style='info', description='Progress:', layout=Layout(height='25px', width='50%'),…"
      ]
     },
     "metadata": {},
     "output_type": "display_data"
    },
    {
     "name": "stdout",
     "output_type": "stream",
     "text": [
      "root\n",
      " |-- _c0: string (nullable = true)\n",
      " |-- id: string (nullable = true)\n",
      " |-- title: string (nullable = true)\n",
      " |-- publication: string (nullable = true)\n",
      " |-- author: string (nullable = true)\n",
      " |-- date: string (nullable = true)\n",
      " |-- year: string (nullable = true)\n",
      " |-- month: string (nullable = true)\n",
      " |-- url: string (nullable = true)\n",
      " |-- content: string (nullable = true)\n",
      " |-- null_free_content: string (nullable = false)\n",
      " |-- tokens: array (nullable = true)\n",
      " |    |-- element: string (containsNull = true)"
     ]
    }
   ],
   "source": [
    "'''Tokenize content to prepare its data\n",
    "   Here, We perform the following steps:\n",
    "     1. Remove special characters [.,%()'\"...]\n",
    "     2. Remove Stop-Words\n",
    "     3. Remove Words of length 1\n",
    "'''\n",
    "\n",
    "from pyspark.ml.feature import RegexTokenizer\n",
    "\n",
    "tokenization = RegexTokenizer(\n",
    "    minTokenLength=2,\n",
    "    gaps=False,\n",
    "    pattern='[A-Za-z0-9]+',\n",
    "    inputCol='null_free_content',\n",
    "    outputCol='tokens'\n",
    ")\n",
    "\n",
    "df = tokenization.transform(df)\n",
    "df.printSchema()"
   ]
  },
  {
   "cell_type": "code",
   "execution_count": 6,
   "metadata": {},
   "outputs": [
    {
     "data": {
      "application/vnd.jupyter.widget-view+json": {
       "model_id": "c5351965c960420eb1e3155d4c6f1d2c",
       "version_major": 2,
       "version_minor": 0
      },
      "text/plain": [
       "VBox()"
      ]
     },
     "metadata": {},
     "output_type": "display_data"
    },
    {
     "data": {
      "application/vnd.jupyter.widget-view+json": {
       "model_id": "",
       "version_major": 2,
       "version_minor": 0
      },
      "text/plain": [
       "FloatProgress(value=0.0, bar_style='info', description='Progress:', layout=Layout(height='25px', width='50%'),…"
      ]
     },
     "metadata": {},
     "output_type": "display_data"
    }
   ],
   "source": [
    "'''Remove stopwords'''\n",
    "\n",
    "from pyspark.ml.feature import StopWordsRemover\n",
    "\n",
    "stopword_removal = StopWordsRemover(inputCol='tokens',outputCol='refined_tokens')\n",
    "df = stopword_removal.transform(df)"
   ]
  },
  {
   "cell_type": "code",
   "execution_count": 7,
   "metadata": {
    "scrolled": false
   },
   "outputs": [
    {
     "data": {
      "application/vnd.jupyter.widget-view+json": {
       "model_id": "d7282ca43c06486a8a54ba4c11b4887e",
       "version_major": 2,
       "version_minor": 0
      },
      "text/plain": [
       "VBox()"
      ]
     },
     "metadata": {},
     "output_type": "display_data"
    },
    {
     "data": {
      "application/vnd.jupyter.widget-view+json": {
       "model_id": "",
       "version_major": 2,
       "version_minor": 0
      },
      "text/plain": [
       "FloatProgress(value=0.0, bar_style='info', description='Progress:', layout=Layout(height='25px', width='50%'),…"
      ]
     },
     "metadata": {},
     "output_type": "display_data"
    },
    {
     "name": "stdout",
     "output_type": "stream",
     "text": [
      "+--------------------+\n",
      "|      refined_tokens|\n",
      "+--------------------+\n",
      "|[washington, cong...|\n",
      "|[bullet, shells, ...|\n",
      "|[walt, disney, ba...|\n",
      "|[death, may, grea...|\n",
      "|[seoul, south, ko...|\n",
      "+--------------------+\n",
      "only showing top 5 rows"
     ]
    }
   ],
   "source": [
    "'''Show the result. End of the first phase (Data Preparation)'''\n",
    "\n",
    "df.select('refined_tokens').show(5)"
   ]
  },
  {
   "cell_type": "code",
   "execution_count": 8,
   "metadata": {},
   "outputs": [
    {
     "data": {
      "application/vnd.jupyter.widget-view+json": {
       "model_id": "8221a212814542269e131a79c33d0dda",
       "version_major": 2,
       "version_minor": 0
      },
      "text/plain": [
       "VBox()"
      ]
     },
     "metadata": {},
     "output_type": "display_data"
    },
    {
     "data": {
      "application/vnd.jupyter.widget-view+json": {
       "model_id": "",
       "version_major": 2,
       "version_minor": 0
      },
      "text/plain": [
       "FloatProgress(value=0.0, bar_style='info', description='Progress:', layout=Layout(height='25px', width='50%'),…"
      ]
     },
     "metadata": {},
     "output_type": "display_data"
    }
   ],
   "source": [
    "'''Start of the Second Phase (NLP analytics).\n",
    "   We will perform two actions with our data.\n",
    "     1. Text grouping with k-means algorithm\n",
    "     2. Topic modeling with the LDA algorithm\n",
    "\n",
    "   We'll begin with the 2.\n",
    "   We start importing some libraries\n",
    "'''\n",
    "\n",
    "'''Libraries for text processing'''\n",
    "from pyspark.ml.feature import IDF, HashingTF\n",
    "\n",
    "'''Libraries to build the model'''\n",
    "from pyspark.ml.clustering import LDA"
   ]
  },
  {
   "cell_type": "code",
   "execution_count": 9,
   "metadata": {},
   "outputs": [
    {
     "data": {
      "application/vnd.jupyter.widget-view+json": {
       "model_id": "4514f407afa64610ab693e666a3698b4",
       "version_major": 2,
       "version_minor": 0
      },
      "text/plain": [
       "VBox()"
      ]
     },
     "metadata": {},
     "output_type": "display_data"
    },
    {
     "data": {
      "application/vnd.jupyter.widget-view+json": {
       "model_id": "",
       "version_major": 2,
       "version_minor": 0
      },
      "text/plain": [
       "FloatProgress(value=0.0, bar_style='info', description='Progress:', layout=Layout(height='25px', width='50%'),…"
      ]
     },
     "metadata": {},
     "output_type": "display_data"
    }
   ],
   "source": [
    "'''Build a TF-IDF matrix.\n",
    "   TF\n",
    "'''\n",
    "\n",
    "hashingTF = HashingTF(inputCol=\"refined_tokens\", outputCol=\"raw_features\")\n",
    "tf = hashingTF.transform(df)"
   ]
  },
  {
   "cell_type": "code",
   "execution_count": 10,
   "metadata": {},
   "outputs": [
    {
     "data": {
      "application/vnd.jupyter.widget-view+json": {
       "model_id": "88205bc93d0e4c1b842fb31ec73a21bb",
       "version_major": 2,
       "version_minor": 0
      },
      "text/plain": [
       "VBox()"
      ]
     },
     "metadata": {},
     "output_type": "display_data"
    },
    {
     "data": {
      "application/vnd.jupyter.widget-view+json": {
       "model_id": "",
       "version_major": 2,
       "version_minor": 0
      },
      "text/plain": [
       "FloatProgress(value=0.0, bar_style='info', description='Progress:', layout=Layout(height='25px', width='50%'),…"
      ]
     },
     "metadata": {},
     "output_type": "display_data"
    }
   ],
   "source": [
    "'''IDF'''\n",
    "\n",
    "tf.cache()\n",
    "idf = IDF(inputCol=\"raw_features\", outputCol=\"features\").fit(tf)\n",
    "tfidf = idf.transform(tf)"
   ]
  },
  {
   "cell_type": "code",
   "execution_count": 11,
   "metadata": {},
   "outputs": [
    {
     "data": {
      "application/vnd.jupyter.widget-view+json": {
       "model_id": "45a663fb8591449090dd092745f4ab0e",
       "version_major": 2,
       "version_minor": 0
      },
      "text/plain": [
       "VBox()"
      ]
     },
     "metadata": {},
     "output_type": "display_data"
    },
    {
     "data": {
      "application/vnd.jupyter.widget-view+json": {
       "model_id": "",
       "version_major": 2,
       "version_minor": 0
      },
      "text/plain": [
       "FloatProgress(value=0.0, bar_style='info', description='Progress:', layout=Layout(height='25px', width='50%'),…"
      ]
     },
     "metadata": {},
     "output_type": "display_data"
    },
    {
     "name": "stdout",
     "output_type": "stream",
     "text": [
      "+-----+--------------------+\n",
      "|   id|            features|\n",
      "+-----+--------------------+\n",
      "|17283|(262144,[619,2326...|\n",
      "|17284|(262144,[14,343,1...|\n",
      "|17285|(262144,[14,535,5...|\n",
      "|17286|(262144,[75,535,7...|\n",
      "|17287|(262144,[2472,328...|\n",
      "+-----+--------------------+\n",
      "only showing top 5 rows"
     ]
    }
   ],
   "source": [
    "'''With all the data the model takes longer than the session to finish\n",
    "   So I'm trying to do it with a small subset to see if it works that\n",
    "   way. Since there won't be a time problem in the DCA, there we can\n",
    "   use the full thing\n",
    "'''\n",
    "\n",
    "corpus = tfidf.filter(df['publication']=='New York Times').select('id', 'features')\n",
    "corpus.show(5)"
   ]
  },
  {
   "cell_type": "code",
   "execution_count": 12,
   "metadata": {},
   "outputs": [
    {
     "data": {
      "application/vnd.jupyter.widget-view+json": {
       "model_id": "481d20bb7b03433c8377612d456dfb84",
       "version_major": 2,
       "version_minor": 0
      },
      "text/plain": [
       "VBox()"
      ]
     },
     "metadata": {},
     "output_type": "display_data"
    },
    {
     "data": {
      "application/vnd.jupyter.widget-view+json": {
       "model_id": "",
       "version_major": 2,
       "version_minor": 0
      },
      "text/plain": [
       "FloatProgress(value=0.0, bar_style='info', description='Progress:', layout=Layout(height='25px', width='50%'),…"
      ]
     },
     "metadata": {},
     "output_type": "display_data"
    }
   ],
   "source": [
    "'''Train and make the LDA model'''\n",
    "\n",
    "corpus = tfidf.select('id', 'features')\n",
    "lda = LDA(k=10, maxIter=10)\n",
    "model = lda.fit(corpus)"
   ]
  },
  {
   "cell_type": "code",
   "execution_count": 39,
   "metadata": {},
   "outputs": [
    {
     "data": {
      "application/vnd.jupyter.widget-view+json": {
       "model_id": "8871af2fb9c1466b9504c0cc4211365e",
       "version_major": 2,
       "version_minor": 0
      },
      "text/plain": [
       "VBox()"
      ]
     },
     "metadata": {},
     "output_type": "display_data"
    },
    {
     "data": {
      "application/vnd.jupyter.widget-view+json": {
       "model_id": "",
       "version_major": 2,
       "version_minor": 0
      },
      "text/plain": [
       "FloatProgress(value=0.0, bar_style='info', description='Progress:', layout=Layout(height='25px', width='50%'),…"
      ]
     },
     "metadata": {},
     "output_type": "display_data"
    },
    {
     "name": "stdout",
     "output_type": "stream",
     "text": [
      "The topics described by their top-weighted terms:\n",
      "+-----+----------------------------------------+-------------------------------------------------------------------------------------------------------------------+\n",
      "|topic|termIndices                             |termWeights                                                                                                        |\n",
      "+-----+----------------------------------------+-------------------------------------------------------------------------------------------------------------------+\n",
      "|0    |[257347, 258162, 211756, 187621, 168976]|[0.002081512866048314, 0.0019332381799013387, 0.0016092524191497761, 0.0015469962032630825, 0.0012836316062428271] |\n",
      "|1    |[114686, 7612, 250458, 161826, 90757]   |[0.0021301640296976835, 0.0018663553464767237, 0.0016027427234093798, 0.0015518331442499855, 0.0015438155983825623]|\n",
      "|2    |[7612, 168976, 177029, 81379, 63045]    |[0.002976934225921496, 0.0029183591549375434, 0.0027380238160873032, 0.002292230086565525, 0.0020729926677693104]  |\n",
      "|3    |[168976, 230634, 138895, 28951, 235700] |[0.002489596784632785, 0.0019107724936157696, 0.0016875220183839466, 0.0016018611656379857, 0.0015044880944771089] |\n",
      "|4    |[7612, 69384, 36974, 168976, 226147]    |[0.006299801256166555, 0.004394676816163531, 0.0033661175707831673, 0.0022303013696959527, 0.0019132374996561712]  |\n",
      "|5    |[95592, 33182, 105411, 168976, 170698]  |[0.0036972109461923075, 0.002154603457741885, 0.0019660862869724854, 0.0016971907458390215, 0.0016206954113510178] |\n",
      "|6    |[116024, 87288, 7612, 36974, 234972]    |[0.003316338665770489, 0.003214912404237429, 0.0031882499839285547, 0.0025891035079781137, 0.0023078824058477237]  |\n",
      "|7    |[52871, 161826, 146227, 250458, 185155] |[0.0026542371746941396, 0.00252923612838167, 0.001922178232039478, 0.0016898476779094555, 0.0016790120132928888]   |\n",
      "|8    |[21715, 205460, 182367, 168976, 257853] |[0.0026434515351518428, 0.002237205059485043, 0.0019148642317538796, 0.0018798642431106254, 0.0015607324814357632] |\n",
      "|9    |[7612, 168976, 1769, 33182, 124361]     |[0.0034801429384467503, 0.0025831068645953883, 0.001977403289384189, 0.0019070308962621082, 0.0015580028629978559] |\n",
      "+-----+----------------------------------------+-------------------------------------------------------------------------------------------------------------------+"
     ]
    }
   ],
   "source": [
    "'''The topics described by their top-weighted terms, the results are not conclusive'''\n",
    "\n",
    "topics = model.describeTopics(5)\n",
    "print(\"The topics described by their top-weighted terms:\")\n",
    "topics.show(10, truncate=False)"
   ]
  },
  {
   "cell_type": "code",
   "execution_count": 14,
   "metadata": {},
   "outputs": [
    {
     "data": {
      "application/vnd.jupyter.widget-view+json": {
       "model_id": "17e393eab79940b1a72c19820e62e757",
       "version_major": 2,
       "version_minor": 0
      },
      "text/plain": [
       "VBox()"
      ]
     },
     "metadata": {},
     "output_type": "display_data"
    },
    {
     "data": {
      "application/vnd.jupyter.widget-view+json": {
       "model_id": "",
       "version_major": 2,
       "version_minor": 0
      },
      "text/plain": [
       "FloatProgress(value=0.0, bar_style='info', description='Progress:', layout=Layout(height='25px', width='50%'),…"
      ]
     },
     "metadata": {},
     "output_type": "display_data"
    },
    {
     "name": "stdout",
     "output_type": "stream",
     "text": [
      "+--------------------+\n",
      "|      refined_tokens|\n",
      "+--------------------+\n",
      "|[washington, cong...|\n",
      "|[bullet, shells, ...|\n",
      "|[walt, disney, ba...|\n",
      "|[death, may, grea...|\n",
      "|[seoul, south, ko...|\n",
      "|[london, queen, e...|\n",
      "|[beijing, preside...|\n",
      "|[danny, cahill, s...|\n",
      "|[hillary, kerr, f...|\n",
      "|[angels, everywhe...|\n",
      "+--------------------+\n",
      "only showing top 10 rows"
     ]
    }
   ],
   "source": [
    "vocabulary = tfidf.filter(tfidf['publication']=='New York Times').select('refined_tokens')\n",
    "vocabulary.show(10)"
   ]
  },
  {
   "cell_type": "code",
   "execution_count": 15,
   "metadata": {},
   "outputs": [
    {
     "data": {
      "application/vnd.jupyter.widget-view+json": {
       "model_id": "d5cf4484499a4e5cbc0de4561bf24768",
       "version_major": 2,
       "version_minor": 0
      },
      "text/plain": [
       "VBox()"
      ]
     },
     "metadata": {},
     "output_type": "display_data"
    },
    {
     "data": {
      "application/vnd.jupyter.widget-view+json": {
       "model_id": "",
       "version_major": 2,
       "version_minor": 0
      },
      "text/plain": [
       "FloatProgress(value=0.0, bar_style='info', description='Progress:', layout=Layout(height='25px', width='50%'),…"
      ]
     },
     "metadata": {},
     "output_type": "display_data"
    }
   ],
   "source": [
    "vocabulary = vocabulary.rdd.map(lambda row : row.refined_tokens)"
   ]
  },
  {
   "cell_type": "code",
   "execution_count": 16,
   "metadata": {},
   "outputs": [
    {
     "data": {
      "application/vnd.jupyter.widget-view+json": {
       "model_id": "c09249950061400d8d472c18530521d3",
       "version_major": 2,
       "version_minor": 0
      },
      "text/plain": [
       "VBox()"
      ]
     },
     "metadata": {},
     "output_type": "display_data"
    },
    {
     "data": {
      "application/vnd.jupyter.widget-view+json": {
       "model_id": "",
       "version_major": 2,
       "version_minor": 0
      },
      "text/plain": [
       "FloatProgress(value=0.0, bar_style='info', description='Progress:', layout=Layout(height='25px', width='50%'),…"
      ]
     },
     "metadata": {},
     "output_type": "display_data"
    },
    {
     "name": "stdout",
     "output_type": "stream",
     "text": [
      "[['washington', 'congressional', 'republicans', 'new', 'fear', 'comes', 'health', 'care', 'lawsuit', 'obama', 'administration', 'might', 'win', 'incoming', 'trump', 'administration', 'choose', 'longer', 'defend', 'executive', 'branch', 'suit', 'challenges', 'administration', 'authority', 'spend', 'billions', 'dollars', 'health', 'insurance', 'subsidies', 'americans', 'handing', 'house', 'republicans', 'big', 'victory', 'issues', 'sudden', 'loss', 'disputed', 'subsidies', 'conceivably', 'cause', 'health', 'care', 'program', 'implode', 'leaving', 'millions', 'people', 'without', 'access', 'health', 'insurance', 'republicans', 'prepared', 'replacement', 'lead', 'chaos', 'insurance', 'market', 'spur', 'political', 'backlash', 'republicans', 'gain', 'full', 'control', 'government', 'stave', 'outcome', 'republicans', 'find', 'awkward', 'position', 'appropriating', 'huge', 'sums', 'temporarily', 'prop', 'obama', 'health', 'care', 'law', 'angering', 'conservative', 'voters', 'demanding', 'end', 'law', 'years', 'another', 'twist', 'donald', 'trump', 'administration', 'worried', 'preserving', 'executive', 'branch', 'prerogatives', 'choose', 'fight', 'republican', 'allies', 'house', 'central', 'questions', 'dispute', 'eager', 'avoid', 'ugly', 'political', 'pileup', 'republicans', 'capitol', 'hill', 'trump', 'transition', 'team', 'gaming', 'handle', 'lawsuit', 'election', 'put', 'limbo', 'least', 'late', 'february', 'united', 'states', 'court', 'appeals', 'district', 'columbia', 'circuit', 'yet', 'ready', 'divulge', 'strategy', 'given', 'pending', 'litigation', 'involves', 'obama', 'administration', 'congress', 'inappropriate', 'comment', 'said', 'phillip', 'blando', 'spokesman', 'trump', 'transition', 'effort', 'upon', 'taking', 'office', 'trump', 'administration', 'evaluate', 'case', 'related', 'aspects', 'affordable', 'care', 'act', 'potentially', 'decision', '2015', 'judge', 'rosemary', 'collyer', 'ruled', 'house', 'republicans', 'standing', 'sue', 'executive', 'branch', 'spending', 'dispute', 'obama', 'administration', 'distributing', 'health', 'insurance', 'subsidies', 'violation', 'constitution', 'without', 'approval', 'congress', 'justice', 'department', 'confident', 'judge', 'collyer', 'decision', 'reversed', 'quickly', 'appealed', 'subsidies', 'remained', 'place', 'appeal', 'successfully', 'seeking', 'temporary', 'halt', 'proceedings', 'mr', 'trump', 'won', 'house', 'republicans', 'last', 'month', 'told', 'court', 'transition', 'team', 'currently', 'discussing', 'potential', 'options', 'resolution', 'matter', 'take', 'effect', 'inauguration', 'jan', '20', '2017', 'suspension', 'case', 'house', 'lawyers', 'said', 'provide', 'future', 'administration', 'time', 'consider', 'whether', 'continue', 'prosecuting', 'otherwise', 'resolve', 'appeal', 'republican', 'leadership', 'officials', 'house', 'acknowledge', 'possibility', 'cascading', 'effects', 'payments', 'totaled', 'estimated', '13', 'billion', 'suddenly', 'stopped', 'insurers', 'receive', 'subsidies', 'exchange', 'paying', 'costs', 'deductibles', 'eligible', 'consumers', 'race', 'drop', 'coverage', 'since', 'losing', 'money', 'loss', 'subsidies', 'destabilize', 'entire', 'program', 'cause', 'lack', 'confidence', 'leads', 'insurers', 'seek', 'quick', 'exit', 'well', 'anticipating', 'trump', 'administration', 'might', 'inclined', 'mount', 'vigorous', 'fight', 'house', 'republicans', 'given', 'dim', 'view', 'health', 'care', 'law', 'team', 'lawyers', 'month', 'sought', 'intervene', 'case', 'behalf', 'two', 'participants', 'health', 'care', 'program', 'request', 'lawyers', 'predicted', 'deal', 'house', 'republicans', 'new', 'administration', 'dismiss', 'settle', 'case', 'produce', 'devastating', 'consequences', 'individuals', 'receive', 'reductions', 'well', 'nation', 'health', 'insurance', 'health', 'care', 'systems', 'generally', 'matter', 'happens', 'house', 'republicans', 'say', 'want', 'prevail', 'two', 'overarching', 'concepts', 'congressional', 'power', 'purse', 'right', 'congress', 'sue', 'executive', 'branch', 'violates', 'constitution', 'regarding', 'spending', 'power', 'house', 'republicans', 'contend', 'congress', 'never', 'appropriated', 'money', 'subsidies', 'required', 'constitution', 'suit', 'initially', 'championed', 'john', 'boehner', 'house', 'speaker', 'time', 'later', 'house', 'committee', 'reports', 'republicans', 'asserted', 'administration', 'desperate', 'funding', 'required', 'treasury', 'department', 'provide', 'despite', 'widespread', 'internal', 'skepticism', 'spending', 'proper', 'white', 'house', 'said', 'spending', 'permanent', 'part', 'law', 'passed', '2010', 'annual', 'appropriation', 'required', 'even', 'though', 'administration', 'initially', 'sought', 'one', 'important', 'house', 'republicans', 'judge', 'collyer', 'found', 'congress', 'standing', 'sue', 'white', 'house', 'issue', 'ruling', 'many', 'legal', 'experts', 'said', 'flawed', 'want', 'precedent', 'set', 'restore', 'congressional', 'leverage', 'executive', 'branch', 'spending', 'power', 'standing', 'trump', 'administration', 'may', 'come', 'pressure', 'advocates', 'presidential', 'authority', 'fight', 'house', 'matter', 'shared', 'views', 'health', 'care', 'since', 'precedents', 'broad', 'repercussions', 'complicated', 'set', 'dynamics', 'illustrating', 'quick', 'legal', 'victory', 'house', 'trump', 'era', 'might', 'come', 'costs', 'republicans', 'never', 'anticipated', 'took', 'obama', 'white', 'house'], ['bullet', 'shells', 'get', 'counted', 'blood', 'dries', 'votive', 'candles', 'burn', 'people', 'peer', 'windows', 'see', 'crime', 'scenes', 'gone', 'cold', 'band', 'yellow', 'police', 'tape', 'blowing', 'breeze', 'south', 'bronx', 'across', 'harlem', 'river', 'manhattan', 'shorthand', 'urban', 'dysfunction', 'still', 'suffers', 'violence', 'levels', 'long', 'ago', 'slashed', 'many', 'parts', 'new', 'york', 'city', 'yet', 'city', 'efforts', 'fight', 'remain', 'splintered', 'underfunded', 'burdened', 'scandal', '40th', 'precinct', 'southern', 'tip', 'bronx', 'poor', 'minority', 'neighborhoods', 'across', 'country', 'people', 'long', 'hounded', 'infractions', 'crying', 'protection', 'grievous', 'injury', 'death', 'september', 'four', 'every', 'five', 'shootings', 'precinct', 'year', 'unsolved', 'city', '77', 'precincts', '40th', 'highest', 'murder', 'rate', 'fewest', 'detectives', 'per', 'violent', 'crime', 'reflecting', 'disparities', 'staffing', 'hit', 'hardest', 'neighborhoods', 'outside', 'manhattan', 'according', 'new', 'york', 'times', 'analysis', 'police', 'department', 'data', 'investigators', 'precinct', 'saddled', 'twice', 'number', 'cases', 'department', 'recommends', 'even', 'bosses', 'called', 'police', 'headquarters', 'answer', 'sharpest', 'crime', 'rise', 'city', 'year', 'across', 'bronx', 'investigative', 'resources', 'squeezed', 'highest', 'rate', 'city', 'five', 'boroughs', 'thinnest', 'detective', 'staffing', 'nine', '14', 'precinct', 'detective', 'squads', 'violent', 'crime', 'city', 'borough', 'robbery', 'squad', 'smaller', 'manhattan', 'even', 'though', 'bronx', '300', 'cases', 'year', 'homicide', 'squad', 'one', 'detective', 'every', 'four', 'murders', 'compared', 'one', 'detective', 'roughly', 'every', 'two', 'murders', 'upper', 'manhattan', 'one', 'detective', 'per', 'murder', 'lower', 'manhattan', 'lobbies', 'family', 'apartments', 'outside', 'methadone', 'clinics', 'art', 'studios', 'people', 'take', 'note', 'inequity', 'hear', 'police', 'commanders', 'explain', 'lack', 'resources', 'place', 'floodlight', 'dangerous', 'block', 'post', 'officers', 'corner', 'watch', 'witnesses', 'cower', 'behind', 'doors', 'fearful', 'gunman', 'crew', 'confident', 'police', 'department', 'ability', 'protect', 'though', 'people', 'see', 'lot', 'rarely', 'testify', 'south', 'bronx', 'many', 'predominantly', 'black', 'hispanic', 'neighborhoods', 'like', 'united', 'states', 'contract', 'police', 'community', 'tatters', 'people', 'stories', 'crime', 'reports', 'ignored', '911', 'calls', 'went', 'unanswered', 'hours', 'others', 'tell', '911', 'call', 'help', 'ending', 'caller', 'arrest', 'minor', 'charge', 'leading', '12', 'hours', 'fetid', 'holding', 'cell', 'paradox', 'policing', '40th', 'precinct', 'neighborhoods', 'historically', 'prime', 'targets', 'aggressive', 'tactics', 'like', 'designed', 'ward', 'disorder', 'precinct', 'detectives', 'less', 'time', 'anywhere', 'else', 'city', 'answer', 'blood', 'spilled', 'violent', 'crimes', 'gola', 'white', 'beside', 'daughter', 'shot', 'killed', 'playground', 'summer', 'four', 'years', 'son', 'gunned', 'housing', 'project', 'ticked', 'public', 'safety', 'resources', 'said', 'scant', 'bronx', 'neighborhoods', 'like', 'security', 'cameras', 'lights', 'locks', 'investigating', 'police', 'officers', 'nothing', 'said', 'comes', 'families', 'said', 'authorities', 'really', 'care', 'much', 'feel', 'times', 'documenting', 'murders', 'logged', 'year', '40th', 'precinct', 'one', 'handful', 'neighborhoods', 'deadly', 'violence', 'remains', 'problem', 'era', 'crime', 'new', 'york', 'city', 'homicides', '14', 'precinct', 'year', 'nine', '2015', 'strain', 'detectives', 'go', 'unsolved', 'half', 'year', 'look', 'take', 'law', 'hands', 'hundreds', 'conversations', 'grieving', 'relatives', 'friends', 'witnesses', 'police', 'officers', 'social', 'forces', 'flare', 'murder', 'place', 'like', '40th', 'precinct', 'become', 'clearer', 'merciless', 'gang', 'codes', 'mental', 'illness', 'drugs', 'long', 'memories', 'feuds', 'simmered', 'officers', 'view', 'reasons', 'murders', 'never', 'solved', 'also', 'emerge', 'paralyzing', 'fear', 'retribution', 'victims', 'carrying', 'secrets', 'graves', 'relentless', 'casework', 'forces', 'detectives', 'move', 'hopes', 'break', 'come', 'later', 'frustrations', 'build', 'sides', 'detectives', 'phones', 'rarely', 'ring', 'tips', 'officers', 'grow', 'embittered', 'witnesses', 'cooperate', 'meantime', 'victim', 'friends', 'conduct', 'investigations', 'talk', 'grabbing', 'stash', 'gun', 'wheel', 'well', 'mother', 'apartment', 'find', 'suspect', 'chasm', 'police', 'community', 'gangs', 'gun', 'violence', 'flourish', 'parents', 'try', 'protect', 'families', 'drug', 'crews', 'threats', 'officers', 'work', 'overcome', 'residue', 'years', 'mistrust', 'understaffing', 'communities', 'still', 'go', 'racing', 'one', '911', 'call', 'next', 'streets', 'around', 'st', 'mary', 'park', 'scene', 'two', 'fatal', 'shootings', 'logged', '40th', 'precinct', 'year', 'unsolved', 'james', 'fernandez', 'heard', 'talk', 'murders', 'door', 'apartment', 'east', '146th', 'street', 'betances', 'houses', 'lived', 'end', 'long', 'hallway', 'strewn', 'hypodermic', 'needles', 'empty', 'dope', 'bags', 'discarded', 'hennessy', 'bottles', 'young', 'men', 'spoke', 'subset', 'bloods', 'gang', 'made', 'drug', 'market', 'slinging', 'marijuana', 'cocaine', 'regulars', 'flashing', 'firearms', 'blowing', 'smoke', 'fernandez', 'apartment', 'mr', 'fernandez', '40', 'asked', 'young', 'men', 'move', 'answered', 'busting', 'car', 'kind', 'crime', 'anachronism', 'much', 'new', 'york', 'still', 'rattles', '40th', 'precinct', 'even', 'though', 'murders', 'fallen', '14', 'year', '83', '1991', 'major', 'felony', 'crimes', 'per', 'resident', 'residential', 'district', 'city', 'also', 'one', 'poorest', 'communities', 'country', 'many', 'young', 'men', 'find', 'way', 'underground', 'markets', 'mr', 'fernandez', 'one', 'shrink', 'threats', 'growing', 'lower', 'east', 'side', 'rode', 'bicycle', 'around', 'customers', 'drug', 'dealers', 'worked', 'collected', 'payments', 'backpack', 'leaving', 'life', 'got', 'tech', 'maintenance', 'job', 'three', 'years', 'ago', 'moved', 'betances', 'houses', 'wife', 'daughter', '11', 'two', 'choices', 'get', 'help', 'drug', 'crew', 'call', 'police', 'help', 'risk', 'labeled', 'snitch', 'call', 'old', 'lower', 'east', 'side', 'bosses', 'muscle', 'risk', 'violence', 'chose', 'police', 'walked', 'local', 'substation', 'police', 'service', 'area', 'asked', 'protection', 'daughter', 'using', 'inhaler', 'relieve', 'coughs', 'marijuana', 'smoke', 'mr', 'fernandez', 'wife', 'got', 'terrible', 'headaches', 'lot', 'killers', 'going', 'kill', 'sergeant', 'police', 'report', 'quoted', 'telling', 'mr', 'fernandez', 'august', '2015', 'second', 'report', 'filed', 'day', 'said', 'warned', 'going', 'shoot', 'window', 'mr', 'fernandez', 'told', 'police', 'teenagers', 'names', 'appear', 'reports', 'went', 'home', 'said', 'one', 'friends', 'seen', 'walk', 'substation', 'tried', 'intimidate', 'filing', 'another', 'report', 'three', 'days', 'later', 'propped', 'bike', 'door', 'said', 'open', 'door', 'say', 'something', 'body', 'slam', 'mr', 'fernandez', 'wife', 'maria', 'fernandez', 'wrote', 'slips', 'paper', 'used', 'document', 'hallway', 'ruckus', 'inadequate', 'police', 'response', 'boys', 'made', 'comments', 'easy', 'target', 'slap', 'opened', 'door', 'made', 'drug', 'sale', 'threatened', 'beat', 'fernandez', 'family', 'ones', 'snitching', 'notes', 'say', 'another', 'complaint', 'substation', '10', 'days', 'first', 'brought', 'relief', 'week', 'later', 'feeling', 'desperate', 'ms', 'fernandez', 'tried', 'calling', 'first', 'substation', '50', 'one', 'boys', 'blew', 'weed', 'smoke', 'door', 'made', 'threat', 'attack', '911', '10', '36', 'police', 'never', 'came', 'wrote', 'notes', 'tried', '40th', 'precinct', 'station', 'house', 'next', 'officers', 'desk', 'left', 'standing', 'public', 'waiting', 'area', 'said', 'making', 'fear', 'seen', 'officers', 'put', 'worse', 'danger', 'months', 'later', 'said', 'came', 'door', 'announced', 'front', 'teenagers', 'complaint', 'drug', 'activity', 'mr', 'fernandez', 'started', 'work', 'said', 'police', 'failed', 'wired', 'camera', 'peephole', 'record', 'drugs', 'guns', 'footage', 'hark', 'back', 'new', 'york', '1980s', 'still', 'much', 'present', 'precinct', 'residents', 'around', '30', 'morning', 'sgt', 'michael', 'lopuzzo', 'walks', 'tall', 'wooden', 'doors', '40th', 'precinct', 'station', 'house', 'cases', 'land', 'metal', 'desk', 'dead', 'bodies', 'known', 'cause', 'strip', 'club', 'brawls', 'shooting', 'victims', 'hobbling', 'hospital', 'bring', 'resistance', 'every', 'turn', 'reminding', 'earlier', 'era', 'city', 'campaign', 'haven', 'got', 'one', 'single', 'phone', 'call', 'putting', 'right', 'direction', 'said', 'sergeant', 'lopuzzo', 'head', 'precinct', 'detective', 'squad', 'one', 'day', 'summer', 'worked', 'answer', 'email', 'inquiry', 'murder', 'victim', 'aunt', 'killer', 'caught', 'people', 'understand', 'often', 'detectives', 'feel', 'effects', 'people', 'turning', 'police', 'witnesses', 'shout', 'away', 'doors', 'neighbors', 'know', 'refuse', 'talk', '184', 'people', 'shot', 'wounded', 'bronx', 'early', 'september', 'third', '66', 'victims', 'refused', 'cooperate', 'period', '40th', 'precinct', 'squad', 'detectives', 'closed', 'three', '17', 'nonfatal', 'shootings', '72', '343', 'robbery', 'cases', 'part', 'resistance', 'stems', 'preventive', 'policing', 'tactics', 'like', 'hallmark', 'style', 'former', 'mayor', 'michael', 'bloomberg', 'police', 'commissioner', 'raymond', 'kelly', 'near', 'height', 'strategy', '2012', '40th', 'precinct', 'stops', 'city', 'stops', 'officers', 'used', 'force', 'frisks', '18', '276', 'stops', 'year', '15', '521', 'people', 'done', 'nothing', 'criminal', 'precinct', 'also', 'one', 'areas', 'department', 'flooded', 'newest', 'officers', 'roll', 'calls', 'pressured', 'generate', 'numbers', 'write', 'tickets', 'make', 'arrests', 'choice', 'give', 'summons', 'young', 'man', 'playing', 'park', 'dark', 'even', 'officers', 'done', 'growing', 'neighborhood', 'need', 'bring', 'something', 'today', 'justify', 'existence', 'officer', 'argenis', 'rosado', 'joined', 'precinct', '2010', 'said', 'interview', 'station', 'house', 're', 'small', 'area', 'day', 'day', 're', 'hammering', 'community', 'course', 'community', 'eventually', 'going', 'turn', 'pressure', 'warped', 'way', 'officers', 'residents', 'saw', 'rookies', 'ignore', 'someone', 'might', 'drinking', 'outside', 'sitting', 'stoop', 'cops', 'came', 'time', 'probably', 'viewed', 'community', 'differently', 'said', 'hector', 'espada', 'veteran', 'precinct', 'wanted', 'way', 'somehow', 'give', 'someone', '115', 'summons', 'feel', 'like', 'guys', 'still', 'civil', 'conversation', 'morale', 'wilted', 'aged', 'station', 'house', 'alexander', 'avenue', 'mott', 'haven', 'officers', 'felt', 'pressure', 'downgrade', 'crime', 'complaints', 'make', 'appear', 'less', 'serious', 'several', 'said', 'interviews', 'overlooked', 'crime', 'reports', 'immigrants', 'seen', 'unlikely', 'complain', 'watched', 'supervisors', 'badger', 'victims', 'repeating', 'stories', 'hopes', 'drop', 'complaints', 'practice', 'downgrading', 'complaints', 'resulted', 'disciplining', '19', 'officers', 'precinct', 'last', 'year', 'one', 'string', 'scandals', 'left', 'officers', 'feeling', 'overscrutinized', 'problems', 'also', 'existed', 'elsewhere', 'four', 'commanders', 'precinct', 'sent', 'packing', 'five', 'years', 'one', 'officers', 'found', 'ticket', 'fixing', 'forgiving', 'parking', 'tickets', 'friends', 'another', 'recorded', 'giving', 'guidance', 'stop', 'frisk', 'black', 'boys', 'men', 'ages', '14', '21', 'officers', 'fled', 'commands', 'others', 'became', 'reluctant', 'take', 'assignments', 'proactive', 'policing', 'units', 'like', 'put', 'situations', 'street', 'whenever', 'walked', 'doors', 'precinct', 'seemed', 'like', 'black', 'cloud', 'said', 'russell', 'lewis', '40th', 'like', 'heaviness', 'walked', 'wanted', 'hours', '35', 'minutes', 'go', 'home', 'didn', 'want', 'get', 'caught', 'anything', 'precinct', 'covers', 'two', 'square', 'miles', 'dozen', 'housing', 'projects', 'mean', 'overflows', 'people', 'methadone', 'clinics', 'draw', 'addicts', 'around', 'city', 'lofts', 'southern', 'edge', 'precinct', 'presage', 'wave', 'gentrification', 'even', 'police', 'department', 'hired', '300', 'officers', 'neighborhood', 'policing', 'counterterrorism', 'officers', '40th', 'precinct', 'said', 'still', 'rush', '25', '911', 'calls', 'shift', 'number', 'unchanged', 'new', 'police', 'commissioner', 'james', 'neill', 'said', 'handling', 'similar', 'south', 'bronx', 'precinct', '15', 'years', 'ago', 'several', 'dozen', 'calls', 'time', 'waiting', 'response', 'residents', 'know', 'want', 'police', 'domestic', 'problem', 'helps', 'hint', 'weapon', 'last', 'year', 'precinct', 'drew', 'number', 'civilian', 'complaints', 'officer', 'misconduct', 'city', 'lawsuits', 'stemming', 'police', 'actions', 'precinct', 'trying', 'improve', 'morale', 'new', 'commanding', 'officer', 'deputy', 'inspector', 'brian', 'hennessy', 'cadre', 'department', 'calls', 'neighborhood', 'coordination', 'officers', 'patrol', 'since', 'last', 'january', 'part', 'citywide', 'effort', 'mr', 'neill', 'mayor', 'bill', 'de', 'blasio', 'bring', 'back', 'beat', 'cop', 'unencumbered', 'chasing', 'every', 'last', '911', 'call', 'listen', 'people', 'concerns', 'help', 'investigations', 'precinct', 'made', 'among', 'gun', 'arrests', 'city', 'officers', 'said', 'discretion', 'resolve', 'encounters', 'without', 'summons', 'arrest', 'one', 'corner', 'near', 'school', 'courtlandt', 'avenue', 'east', '151st', 'street', 'long', 'spawned', 'complaints', 'gunfire', 'fights', 'inspector', 'hennessy', 'officers', 'painted', 'graffiti', 'swept', 'drug', 'paraphernalia', 'summer', 'people', 'said', 'first', 'answer', 'complaints', 'years', 'inspector', 'acknowledged', 'residue', 'policing', 'lingers', 'perception', 'really', 'sticks', 'said', 'workload', '40th', 'precinct', 'startling', 'reveals', 'gap', 'detective', 'squads', 'equipped', 'answer', 'violent', 'crime', 'manhattan', 'compared', 'bronx', 'brooklyn', 'queens', 'three', 'precinct', '16', 'detectives', 'carrying', '400', 'cases', 'year', 'many', 'others', 'loads', 'high', '300s', 'even', 'though', 'department', 'advises', '150', 'violent', 'precincts', 'assigned', 'homicide', 'typically', 'four', 'days', 'investigate', 'dealing', 'cases', 'quieter', 'precincts', 'give', 'detectives', 'month', 'little', 'distraction', 'investigate', 'murder', 'detectives', '40th', 'precinct', 'handled', 'average', '79', 'violent', 'felonies', 'year', 'murders', 'rapes', 'felony', 'assaults', 'robberies', 'contrast', 'detective', 'precinct', 'southern', 'end', 'staten', 'island', 'carries', 'nine', 'cases', 'detective', 'precinct', 'patrolling', 'union', 'square', 'gramercy', 'park', 'handles', '16', 'detective', 'precinct', 'washington', 'heights', 'handles', '32', 'citywide', 'median', 'last', 'year', '40th', 'violent', 'crime', '65', 'cases', 'per', 'detective', 'bronx', 'whole', 'precinct', 'detective', 'carried', 'average', '58', 'violent', 'felonies', 'year', 'compared', '27', 'manhattan', '37', 'brooklyn', '38', 'queens', '25', 'staten', 'island', 'rape', 'cases', 'robbery', 'patterns', 'later', 'sent', 'specialized', 'units', 'precinct', 'detectives', 'extensive', 'initial', 'work', 'interview', 'victims', 'write', 'reports', 'process', 'evidence', 'precincts', 'much', 'manhattan', 'whiter', 'wealthier', 'south', 'bronx', 'often', 'property', 'felonies', 'like', 'stolen', 'laptops', 'credit', 'cards', 'police', 'say', 'complex', 'even', 'accounting', 'crimes', '40th', 'precinct', 'heaviest', 'caseloads', 'overall', 'crime', 'per', 'detective', 'city', 'michael', 'palladino', 'head', 'detectives', 'endowment', 'association', 'former', 'bronx', 'officer', 'said', 'staffing', 'disparities', 'affected', 'department', 'efforts', 'build', 'trust', 'communities', 'like', 'south', 'bronx', 'witnesses', 'make', 'calculation', 'said', 'cooperate', 'detectives', 'much', 'work', 'won', 'even', 'get', 'chance', 'protect', 'll', 'late', 'retaliation', 'comes', 'sergeant', 'lopuzzo', 'turned', 'prestigious', 'post', 'stay', '40th', 'precinct', 'said', 'squad', 'worked', 'tirelessly', 'handle', 'cases', 'people', 'every', 'squad', 'wanted', 'detectives', 'staffing', 'needs', 'counterterrorism', 'units', 'task', 'forces', 'created', 'new', 'deployment', 'challenges', 'across', 'department', 'fight', 'army', 'army', 'wish', 'said', 'details', 'police', 'department', 'assigns', '36', '000', 'officers', 'closely', 'held', 'constantly', 'flux', 'public', 'minimal', 'information', 'personnel', 'allocated', 'presented', 'times', 'analysis', 'confidential', 'staffing', 'data', 'department', 'chief', 'detectives', 'robert', 'boyce', 'vowed', 'send', 'detectives', '40th', 'precinct', 'said', 'department', 'reassess', 'deployment', 'broadly', 'troubled', 'precincts', 'said', 'recent', 'decision', 'bring', 'gang', 'narcotics', 'vice', 'detectives', 'command', 'made', 'easier', 'shift', 'personnel', 'chief', 'boyce', 'said', 'burdens', 'detectives', 'went', 'beyond', 'felony', 'crimes', 'include', 'cases', 'noted', 'support', 'precinct', 'squads', 'got', 'centralized', 'units', 'focusing', 'robberies', 'gangs', 'grand', 'larcenies', 'example', 'major', 'crime', 'keeps', 'pounding', '40th', 'precinct', 'rates', '2015', 'tenth', 'percent', 'lower', '2001', 'even', 'citywide', 'crime', 'dropped', 'third', 'period', 'precinct', 'detective', 'squad', 'shrank', 'eight', 'investigators', 'years', 'according', 'staffing', 'data', 'obtained', 'city', 'council', 'freedom', 'information', 'law', 'request', 'squad', 'covering', 'union', 'square', 'gramercy', 'park', 'crime', 'dropped', 'third', 'period', 'grew', '11', 'investigators', '40th', 'precinct', 'given', 'additional', 'detective', 'four', 'investigators', 'summer', 'already', 'missing', 'three', 'detectives', 'illness', 'reasons', 'retired', 'detectives', 'skeptical', 'community', 'relations', 'alone', 'drive', 'crime', 'city', 'last', 'busiest', 'precincts', 'rather', 'say', 'police', 'department', 'dedicating', 'resources', 'providing', 'sort', 'robust', 'investigative', 'response', 'seems', 'standard', 'manhattan', 'crime', 'manhattan', 'solved', 'said', 'howard', 'landesberg', '40th', 'precinct', 'detective', 'late', '1980s', 'outer', 'boroughs', 'like', 'forgotten', 'retired', 'detectives', 'said', 'understaffing', 'made', 'harder', 'solve', 'crimes', 'bronx', 'brooklyn', 'queens', 'higher', 'prevalence', 'gang', 'drug', 'killings', 'already', 'saddled', 'investigators', 'cases', 'people', 'inclined', 'cooperate', 'detectives', 'closed', '67', 'percent', 'homicides', 'manhattan', '76', 'percent', 'staten', 'island', 'year', 'compared', '54', 'percent', 'bronx', '42', 'percent', 'queens', '31', 'percent', 'brooklyn', 'last', 'year', 'homicides', 'detectives', 'cleared', '71', 'percent', 'manhattan', '63', 'percent', 'bronx', '62', 'percent', 'queens', '57', 'percent', 'staten', 'island', '31', 'percent', 'brooklyn', 'culture', 'police', 'department', 'worry', 'manhattan', 'said', 'joseph', 'giacalone', 'former', 'sergeant', 'bronx', 'cold', 'case', 'squad', 'part', 'money', 'added', 'de', 'blasio', 'came', 'talked', 'tale', 'two', 'cities', 'done', 'complete', 'opposite', 'said', 'business', 'usual', 'bronx', 'struggles', 'extend', 'prosecutions', 'last', 'five', 'years', 'prosecutors', 'bronx', 'declined', 'prosecute', 'violent', 'felony', 'cases', 'anywhere', 'else', 'city', 'rate', 'conviction', 'bronx', 'routinely', 'lowest', 'city', 'well', 'ticked', 'year', 'surpass', 'brooklyn', 'rate', 'november', 'bronx', 'prosecutors', 'work', 'streamline', 'cases', 'cases', 'become', 'even', 'difficult', 'win', 'problem', '40th', 'precinct', 'allowed', 'defense', 'lawyers', 'attack', 'credibility', 'officers', 'implicated', 'said', 'patrice', 'shaughnessy', 'spokeswoman', 'bronx', 'district', 'attorney', 'office', 'district', 'attorney', 'darcel', 'clark', 'elected', '2015', 'said', 'statement', 'judge', 'bronx', 'heard', 'jurors', 'impartial', 'trust', 'police', 'tide', 'mistrust', 'sergeant', 'lopuzzo', 'detectives', 'work', '36', 'hours', 'straight', 'fresh', 'cases', 'buy', 'chinese', 'takeout', 'money', 'murder', 'suspect', 'carry', 'surveillance', 'videos', 'home', 'hopes', 'personal', 'computers', 'may', 'enhance', 'better', 'squad', 'computer', 'buy', 'urn', 'homeless', 'mother', 'murdered', 'son', 'ashes', 'box', 'months', 'killing', 'seem', 'like', 'people', 'glittering', 'city', 'paying', 'attention', '40th', 'precinct', 'homicide', 'victims', 'newly', 'fatherless', 'children', 'go', 'back', 'school', 'without', 'therapist', 'help', 'victims', 'families', 'wander', 'confused', 'courthouse', 'nearly', 'miss', 'appearance', 'newspapers', 'largely', 'ignore', 'killings', 'people', 'criminal', 'pasts', 'pushing', 'priority', 'lists', 'chiefs', 'police', 'headquarters', 'stuffy', 'squad', 'room', 'detectives', '40th', 'precinct', 'grapple', 'inheritance', 'government', 'neglect', 'meet', 'mothers', 'believe', 'sons', 'might', 'never', 'murdered', 'city', 'guidance', 'counselor', 'listened', 'pleas', 'help', 'stay', 'enrolled', 'city', 'housing', 'worker', 'fixed', 'locks', 'lights', 'building', 'detectives', 'work', 'alongside', 'vicious', 'system', 'streets', 'punishing', 'police', 'cooperators', 'young', 'men', 'scan', 'court', 'paperwork', 'prison', 'looking', 'names', 'people', 'turned', 'one', 'murder', 'victim', 'precinct', 'year', 'cast', 'crew', 'avoided', 'arrested', 'gang', 'takedown', 'believed', 'cooperating', 'longtime', '40th', 'precinct', 'detective', 'jeff', 'meenagh', 'said', 'witness', 'homicide', 'case', 'going', 'testify', 'went', 'back', 'neighborhood', 'told', 'anyone', 'testified', 'get', 'deserve', 'allies', 'sergeant', 'lopuzzo', 'makes', 'friendly', 'long', 'helped', 'clear', 'woman', 'son', 'robbery', 'charge', 'locating', 'surveillance', 'video', 'proved', 'robber', 'mother', 'started', 'calling', 'tips', 'code', 'name', 'gun', 'car', 'example', 'always', 'refused', 'testify', 'cut', 'ties', 'year', 'sergeant', 'lopuzzo', 'arrested', 'son', 'stabbing', 'two', 'people', 'shooting', 'new', 'york', 'city', 'owns', 'east', '146th', 'street', 'buildings', 'side', 'james', 'fernandez', 'betances', 'houses', 'said', 'reality', 'ground', 'different', 'drug', 'boss', 'ran', 'block', 'october', 'mr', 'fernandez', 'increasingly', 'afraid', 'fed', 'mr', 'fernandez', 'wife', 'went', 'far', 'give', 'officers', 'keys', 'building', 'door', 'get', 'whenever', 'wanted', 'showed', 'videos', 'offered', 'access', 'camera', 'see', 'happening', 'hallway', 'couple', 'officers', 'said', 'needed', 'supervisor', 'permission', 'others', 'answered', 'young', 'men', 'making', 'threats', 'officers', 'occasionally', 'stopped', 'outside', 'building', 'causing', 'young', 'men', 'scatter', 'come', 'inside', 'mr', 'fernandez', 'said', 'menacing', 'worsened', 'mr', 'fernandez', 'daughter', 'harassed', 'arrived', 'home', 'school', 'grew', 'distressed', 'parents', 'start', 'seeing', 'therapist', 'mr', 'fernandez', 'made', 'several', 'complaints', 'office', 'borough', 'president', 'ruben', 'diaz', 'jr', 'visited', 'victim', 'advocate', 'district', 'attorney', 'office', 'oct', '20', '2015', 'sent', 'online', 'note', 'police', 'commissioner', 'office', 'went', 'proper', 'channels', 'help', 'note', 'said', 'precincts', 'failed', 'us', 'except', 'officers', 'helped', 'us', 'hands', 'tied', 'one', 'else', 'turn', 'months', 'video', 'multiple', 'crimes', 'taking', 'place', 'extreme', 'danger', '40th', 'psa', 'won', 'anything', 'wrote', 'referring', 'local', 'substation', 'please', 'need', 'speak', 'one', 'authority', 'local', 'substation', 'commander', 'deputy', 'inspector', 'jerry', 'sullivan', 'bronx', 'narcotics', 'unit', 'alerted', 'complaints', 'mr', 'fernandez', 'said', 'never', 'heard', 'relied', 'street', 'instincts', 'protect', 'family', 'made', 'pleas', 'man', 'thought', 'employing', 'dealers', 'hallway', 'activity', 'quieted', 'briefly', 'returned', 'young', 'men', 'rented', 'room', 'woman', 'apartment', 'upstairs', 'mr', 'fernandez', 'approached', 'different', 'man', 'learned', 'boss', 'operation', 'man', 'agreed', 'ask', 'dealers', 'calm', 'even', 'hired', 'drug', 'customer', 'sweep', 'hallway', 'mr', 'fernandez', 'said', 'two', 'weeks', 'later', 'dealing', 'harassment', 'resumed', 'went', 'old', 'lower', 'east', 'side', 'bosses', 'hired', 'men', 'trail', 'wife', 'daughter', 'way', 'building', 'make', 'sure', 'made', 'safely', 'school', 'times', 'sat', 'outside', 'betances', 'houses', 'also', 'bought', 'two', 'bulletproof', 'vests', '700', 'find', 'one', 'small', 'enough', 'daughter', 'faith', 'city', 'new', 'york', 'faith', 'police', 'faith', 'politicians', 'mr', 'fernandez', 'said', 'thing', 'know', 'sure', 'god', 're', 'situation', 'left', 'defend', 'family', 'paying', 'close', 'attention', 'happening', 'hallway', 'mr', 'fernandez', 'said', 'learned', 'details', 'two', 'recent', 'homicides', '40th', 'precinct', 'investigating', 'calls', 'help', 'going', 'nowhere', 'said', 'decided', 'put', 'greater', 'risk', 'talking', 'tell', 'police', 'learned', 'bending', 'backward', 'nobody', 'even', 'anything', 'said', 'going', 'help', 'ain', 'going', 'help', 'last', 'january', 'new', 'neighborhood', 'coordination', 'officer', 'working', 'residents', 'betances', 'houses', 'ended', 'arrests', 'housing', 'command', 'inspector', 'sullivan', 'said', 'chief', 'boyce', 'said', 'silos', 'gang', 'narcotics', 'detectives', 'used', 'work', 'made', 'responding', 'complaints', 'difficult', 'recent', 'restructuring', 'remove', 'obstacles', 'one', 'live', 'like', 'mr', 'fernandez', 'lived', 'people', 'dealing', 'drugs', 'outside', 'apartment', 'said', 'mr', 'fernandez', 'complaints', 'spur', 'arrests', 'two', 'men', 'hallway', 'caught', 'separately', 'year', 'shootings', 'one', 'mr', 'fernandez', 'named', 'police', 'report', 'charged', 'summer', 'hitting', 'officer', 'metal', 'folding', 'chair', 'firing', 'three', 'gunshots', 'crowd', 'court', 'papers', 'say', 'held', 'rikers', 'island', 'attempted', 'murder', 'charge', 'late', 'mr', 'fernandez', 'may', 'moved', 'family', 'away']]"
     ]
    }
   ],
   "source": [
    "vocabulary.take(2)"
   ]
  },
  {
   "cell_type": "code",
   "execution_count": 17,
   "metadata": {},
   "outputs": [
    {
     "data": {
      "application/vnd.jupyter.widget-view+json": {
       "model_id": "90ed2a4e74c243be8142627190574dd8",
       "version_major": 2,
       "version_minor": 0
      },
      "text/plain": [
       "VBox()"
      ]
     },
     "metadata": {},
     "output_type": "display_data"
    },
    {
     "data": {
      "application/vnd.jupyter.widget-view+json": {
       "model_id": "",
       "version_major": 2,
       "version_minor": 0
      },
      "text/plain": [
       "FloatProgress(value=0.0, bar_style='info', description='Progress:', layout=Layout(height='25px', width='50%'),…"
      ]
     },
     "metadata": {},
     "output_type": "display_data"
    }
   ],
   "source": [
    "terms = vocabulary.collect()"
   ]
  },
  {
   "cell_type": "code",
   "execution_count": 36,
   "metadata": {},
   "outputs": [
    {
     "data": {
      "application/vnd.jupyter.widget-view+json": {
       "model_id": "2d404d40c797480ebba8c9e8b47c5f25",
       "version_major": 2,
       "version_minor": 0
      },
      "text/plain": [
       "VBox()"
      ]
     },
     "metadata": {},
     "output_type": "display_data"
    },
    {
     "data": {
      "application/vnd.jupyter.widget-view+json": {
       "model_id": "",
       "version_major": 2,
       "version_minor": 0
      },
      "text/plain": [
       "FloatProgress(value=0.0, bar_style='info', description='Progress:', layout=Layout(height='25px', width='50%'),…"
      ]
     },
     "metadata": {},
     "output_type": "display_data"
    }
   ],
   "source": [
    "'''Function to map terms to indices.'''\n",
    "\n",
    "def find_terms(indices):\n",
    "    words = []\n",
    "    for i in indices:\n",
    "        count = 0\n",
    "        for t in terms:\n",
    "            distance = len(t)\n",
    "            if count + distance > i:\n",
    "                idx = i - count\n",
    "                words.append(t[idx])\n",
    "                break\n",
    "            else:\n",
    "                count += distance\n",
    "    return words"
   ]
  },
  {
   "cell_type": "code",
   "execution_count": 40,
   "metadata": {},
   "outputs": [
    {
     "data": {
      "application/vnd.jupyter.widget-view+json": {
       "model_id": "9433b072221144a681d337b123a8f528",
       "version_major": 2,
       "version_minor": 0
      },
      "text/plain": [
       "VBox()"
      ]
     },
     "metadata": {},
     "output_type": "display_data"
    },
    {
     "data": {
      "application/vnd.jupyter.widget-view+json": {
       "model_id": "",
       "version_major": 2,
       "version_minor": 0
      },
      "text/plain": [
       "FloatProgress(value=0.0, bar_style='info', description='Progress:', layout=Layout(height='25px', width='50%'),…"
      ]
     },
     "metadata": {},
     "output_type": "display_data"
    },
    {
     "name": "stdout",
     "output_type": "stream",
     "text": [
      "['percent', '73', 'cer', 'shelter', 'inside'] ['newark', 'show', 'half', 'races', 'belmonte'] ['show', 'inside', 'hannity', 'exercises', 'news'] ['inside', 'malpractice', 'called', 'sunday', 'beyond'] ['show', '000', 'dropped', 'inside', 'like'] ['wild', 'people', 'much', 'inside', 'scientists'] ['editors', 'russia', 'show', 'dropped', 'scientist'] ['new', 'races', 'secure', 'half', 'needs'] ['kurtulmus', 'relations', 'associated', 'inside', 'passages'] ['show', 'inside', 'ago', 'people', 'list']"
     ]
    }
   ],
   "source": [
    "'''Top five terms for topics 0-9, with this we confirm the results were not conclusive,\n",
    "   since the terms don't really tell much'''\n",
    "\n",
    "top0 = find_terms([257347, 258162, 211756, 187621, 168976])\n",
    "top1 = find_terms([114686, 7612, 250458, 161826, 90757])\n",
    "top2 = find_terms([7612, 168976, 177029, 81379, 63045])\n",
    "top3 = find_terms([168976, 230634, 138895, 28951, 235700])\n",
    "top4 = find_terms([7612, 69384, 36974, 168976, 226147])\n",
    "top5 = find_terms([95592, 33182, 105411, 168976, 170698])\n",
    "top6 = find_terms([116024, 87288, 7612, 36974, 234972])\n",
    "top7 = find_terms([52871, 161826, 146227, 250458, 185155])\n",
    "top8 = find_terms([21715, 205460, 182367, 168976, 257853])\n",
    "top9 = find_terms([7612, 168976, 1769, 33182, 124361])\n",
    "\n",
    "print(top0,top1,top2,top3,top4,top5,top6,top7,top8,top9)"
   ]
  },
  {
   "cell_type": "code",
   "execution_count": null,
   "metadata": {},
   "outputs": [],
   "source": []
  },
  {
   "cell_type": "code",
   "execution_count": null,
   "metadata": {},
   "outputs": [],
   "source": []
  }
 ],
 "metadata": {
  "kernelspec": {
   "display_name": "PySpark",
   "language": "",
   "name": "pysparkkernel"
  },
  "language_info": {
   "codemirror_mode": {
    "name": "python",
    "version": 2
   },
   "mimetype": "text/x-python",
   "name": "pyspark",
   "pygments_lexer": "python2"
  }
 },
 "nbformat": 4,
 "nbformat_minor": 2
}
